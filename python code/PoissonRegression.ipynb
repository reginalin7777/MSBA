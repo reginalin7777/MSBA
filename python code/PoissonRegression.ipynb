{
 "cells": [
  {
   "cell_type": "code",
   "execution_count": 2,
   "metadata": {
    "collapsed": true
   },
   "outputs": [],
   "source": [
    "import pandas as pd\n",
    "import numpy as np\n",
    "df = pd.read_csv('C:/Users/imelvis/Dropbox/UST/Spring2018/ISOM5610/Pre/PoiRegression/insurance.csv')\n",
    "ins=df"
   ]
  },
  {
   "cell_type": "markdown",
   "metadata": {},
   "source": [
    "# Summary statistics of the numerical variables"
   ]
  },
  {
   "cell_type": "code",
   "execution_count": 15,
   "metadata": {},
   "outputs": [
    {
     "data": {
      "text/html": [
       "<div>\n",
       "<style>\n",
       "    .dataframe thead tr:only-child th {\n",
       "        text-align: right;\n",
       "    }\n",
       "\n",
       "    .dataframe thead th {\n",
       "        text-align: left;\n",
       "    }\n",
       "\n",
       "    .dataframe tbody tr th {\n",
       "        vertical-align: top;\n",
       "    }\n",
       "</style>\n",
       "<table border=\"1\" class=\"dataframe\">\n",
       "  <thead>\n",
       "    <tr style=\"text-align: right;\">\n",
       "      <th></th>\n",
       "      <th>count</th>\n",
       "      <th>unique</th>\n",
       "      <th>top</th>\n",
       "      <th>freq</th>\n",
       "      <th>mean</th>\n",
       "      <th>std</th>\n",
       "      <th>min</th>\n",
       "      <th>25%</th>\n",
       "      <th>50%</th>\n",
       "      <th>75%</th>\n",
       "      <th>max</th>\n",
       "    </tr>\n",
       "  </thead>\n",
       "  <tbody>\n",
       "    <tr>\n",
       "      <th>Exposure</th>\n",
       "      <td>67856</td>\n",
       "      <td>NaN</td>\n",
       "      <td>NaN</td>\n",
       "      <td>NaN</td>\n",
       "      <td>0.468652</td>\n",
       "      <td>0.290025</td>\n",
       "      <td>0.00273785</td>\n",
       "      <td>0.219028</td>\n",
       "      <td>0.44627</td>\n",
       "      <td>0.709103</td>\n",
       "      <td>0.999316</td>\n",
       "    </tr>\n",
       "    <tr>\n",
       "      <th>VehValue</th>\n",
       "      <td>67856</td>\n",
       "      <td>NaN</td>\n",
       "      <td>NaN</td>\n",
       "      <td>NaN</td>\n",
       "      <td>1.77702</td>\n",
       "      <td>1.20523</td>\n",
       "      <td>0</td>\n",
       "      <td>1.01</td>\n",
       "      <td>1.5</td>\n",
       "      <td>2.15</td>\n",
       "      <td>34.56</td>\n",
       "    </tr>\n",
       "    <tr>\n",
       "      <th>VehAge</th>\n",
       "      <td>67856</td>\n",
       "      <td>4</td>\n",
       "      <td>old cars</td>\n",
       "      <td>20064</td>\n",
       "      <td>NaN</td>\n",
       "      <td>NaN</td>\n",
       "      <td>NaN</td>\n",
       "      <td>NaN</td>\n",
       "      <td>NaN</td>\n",
       "      <td>NaN</td>\n",
       "      <td>NaN</td>\n",
       "    </tr>\n",
       "    <tr>\n",
       "      <th>VehBody</th>\n",
       "      <td>67856</td>\n",
       "      <td>13</td>\n",
       "      <td>Sedan</td>\n",
       "      <td>22233</td>\n",
       "      <td>NaN</td>\n",
       "      <td>NaN</td>\n",
       "      <td>NaN</td>\n",
       "      <td>NaN</td>\n",
       "      <td>NaN</td>\n",
       "      <td>NaN</td>\n",
       "      <td>NaN</td>\n",
       "    </tr>\n",
       "    <tr>\n",
       "      <th>Gender</th>\n",
       "      <td>67856</td>\n",
       "      <td>2</td>\n",
       "      <td>Female</td>\n",
       "      <td>38603</td>\n",
       "      <td>NaN</td>\n",
       "      <td>NaN</td>\n",
       "      <td>NaN</td>\n",
       "      <td>NaN</td>\n",
       "      <td>NaN</td>\n",
       "      <td>NaN</td>\n",
       "      <td>NaN</td>\n",
       "    </tr>\n",
       "    <tr>\n",
       "      <th>DrivAge</th>\n",
       "      <td>67856</td>\n",
       "      <td>6</td>\n",
       "      <td>older work. people</td>\n",
       "      <td>16189</td>\n",
       "      <td>NaN</td>\n",
       "      <td>NaN</td>\n",
       "      <td>NaN</td>\n",
       "      <td>NaN</td>\n",
       "      <td>NaN</td>\n",
       "      <td>NaN</td>\n",
       "      <td>NaN</td>\n",
       "    </tr>\n",
       "    <tr>\n",
       "      <th>ClaimNb</th>\n",
       "      <td>67856</td>\n",
       "      <td>NaN</td>\n",
       "      <td>NaN</td>\n",
       "      <td>NaN</td>\n",
       "      <td>0.072757</td>\n",
       "      <td>0.278204</td>\n",
       "      <td>0</td>\n",
       "      <td>0</td>\n",
       "      <td>0</td>\n",
       "      <td>0</td>\n",
       "      <td>4</td>\n",
       "    </tr>\n",
       "  </tbody>\n",
       "</table>\n",
       "</div>"
      ],
      "text/plain": [
       "          count unique                 top   freq      mean       std  \\\n",
       "Exposure  67856    NaN                 NaN    NaN  0.468652  0.290025   \n",
       "VehValue  67856    NaN                 NaN    NaN   1.77702   1.20523   \n",
       "VehAge    67856      4            old cars  20064       NaN       NaN   \n",
       "VehBody   67856     13               Sedan  22233       NaN       NaN   \n",
       "Gender    67856      2              Female  38603       NaN       NaN   \n",
       "DrivAge   67856      6  older work. people  16189       NaN       NaN   \n",
       "ClaimNb   67856    NaN                 NaN    NaN  0.072757  0.278204   \n",
       "\n",
       "                 min       25%      50%       75%       max  \n",
       "Exposure  0.00273785  0.219028  0.44627  0.709103  0.999316  \n",
       "VehValue           0      1.01      1.5      2.15     34.56  \n",
       "VehAge           NaN       NaN      NaN       NaN       NaN  \n",
       "VehBody          NaN       NaN      NaN       NaN       NaN  \n",
       "Gender           NaN       NaN      NaN       NaN       NaN  \n",
       "DrivAge          NaN       NaN      NaN       NaN       NaN  \n",
       "ClaimNb            0         0        0         0         4  "
      ]
     },
     "execution_count": 15,
     "metadata": {},
     "output_type": "execute_result"
    }
   ],
   "source": [
    "df.describe(include='all').transpose()"
   ]
  },
  {
   "cell_type": "markdown",
   "metadata": {},
   "source": [
    "# Bar Chart of each categorical variable:"
   ]
  },
  {
   "cell_type": "code",
   "execution_count": 29,
   "metadata": {},
   "outputs": [
    {
     "data": {
      "text/plain": [
       "Text(0.5,1,'Bar Chart of Gender')"
      ]
     },
     "execution_count": 29,
     "metadata": {},
     "output_type": "execute_result"
    },
    {
     "data": {
      "image/png": "[encoded data removed]",
      "text/plain": [
       "<matplotlib.figure.Figure at 0x93a07c0588>"
      ]
     },
     "metadata": {},
     "output_type": "display_data"
    }
   ],
   "source": [
    "import matplotlib.pyplot as plt\n",
    "ins['Gender'].value_counts().plot(kind='bar')\n",
    "plt.title(\"Bar Chart of Gender\")"
   ]
  },
  {
   "cell_type": "code",
   "execution_count": 30,
   "metadata": {},
   "outputs": [
    {
     "data": {
      "text/plain": [
       "Text(0.5,1,'Bar Chart of VehBody')"
      ]
     },
     "execution_count": 30,
     "metadata": {},
     "output_type": "execute_result"
    },
    {
     "data": {
      "image/png": "[encoded data removed]",
      "text/plain": [
       "<matplotlib.figure.Figure at 0x93a0814860>"
      ]
     },
     "metadata": {},
     "output_type": "display_data"
    }
   ],
   "source": [
    "ins['VehBody'].value_counts().plot(kind='bar')\n",
    "plt.title(\"Bar Chart of VehBody\")"
   ]
  },
  {
   "cell_type": "code",
   "execution_count": 31,
   "metadata": {},
   "outputs": [
    {
     "data": {
      "text/plain": [
       "Text(0.5,1,'Bar Chart of VehAge')"
      ]
     },
     "execution_count": 31,
     "metadata": {},
     "output_type": "execute_result"
    },
    {
     "data": {
      "image/png": "[encoded data removed]",
      "text/plain": [
       "<matplotlib.figure.Figure at 0x93a0903630>"
      ]
     },
     "metadata": {},
     "output_type": "display_data"
    }
   ],
   "source": [
    "ins['VehAge'].value_counts().plot(kind='bar')\n",
    "plt.title(\"Bar Chart of VehAge\")"
   ]
  },
  {
   "cell_type": "code",
   "execution_count": 32,
   "metadata": {},
   "outputs": [
    {
     "data": {
      "text/plain": [
       "Text(0.5,1,'Bar Chart of DrivAge')"
      ]
     },
     "execution_count": 32,
     "metadata": {},
     "output_type": "execute_result"
    },
    {
     "data": {
      "image/png": "[encoded data removed]",
      "text/plain": [
       "<matplotlib.figure.Figure at 0x93a097ec50>"
      ]
     },
     "metadata": {},
     "output_type": "display_data"
    }
   ],
   "source": [
    "ins['DrivAge'].value_counts().plot(kind='bar')\n",
    "plt.title(\"Bar Chart of DrivAge\")"
   ]
  },
  {
   "cell_type": "markdown",
   "metadata": {},
   "source": [
    "# Our Goal\n",
    "* We aim to develop a regression model for ClaimNb with some useful predictors\n",
    "    * Such that it helps to capture those factors affect the insurance claim and their relationship between the claim\n",
    "        * i.e. to differentiate between the policyholders according to their risk of claims\n",
    "    * As a consequence, the managers is able to set the premium correctly and fairly for everyone\n",
    "        * Especially those policyholders with higher risk"
   ]
  },
  {
   "cell_type": "markdown",
   "metadata": {},
   "source": [
    "# Poisson Regression\n",
    "* Poisson regression is suggested if the response variable is a count data\n",
    "* **glm()** from **statsmodels.formula.api** is used to fit a generalized linear model and poisson regression is one of those\n",
    "    * by seting **family=sm.families.Poisson()**"
   ]
  },
  {
   "cell_type": "markdown",
   "metadata": {},
   "source": [
    "* The full model"
   ]
  },
  {
   "cell_type": "code",
   "execution_count": 3,
   "metadata": {},
   "outputs": [
    {
     "data": {
      "text/html": [
       "<table class=\"simpletable\">\n",
       "<caption>Generalized Linear Model Regression Results</caption>\n",
       "<tr>\n",
       "  <th>Dep. Variable:</th>       <td>ClaimNb</td>     <th>  No. Observations:  </th>  <td> 67856</td> \n",
       "</tr>\n",
       "<tr>\n",
       "  <th>Model:</th>                 <td>GLM</td>       <th>  Df Residuals:      </th>  <td> 67832</td> \n",
       "</tr>\n",
       "<tr>\n",
       "  <th>Model Family:</th>        <td>Poisson</td>     <th>  Df Model:          </th>  <td>    23</td> \n",
       "</tr>\n",
       "<tr>\n",
       "  <th>Link Function:</th>         <td>log</td>       <th>  Scale:             </th>    <td>1.0</td>  \n",
       "</tr>\n",
       "<tr>\n",
       "  <th>Method:</th>               <td>IRLS</td>       <th>  Log-Likelihood:    </th> <td> -17371.</td>\n",
       "</tr>\n",
       "<tr>\n",
       "  <th>Date:</th>           <td>Sat, 03 Feb 2018</td> <th>  Deviance:          </th> <td>  25308.</td>\n",
       "</tr>\n",
       "<tr>\n",
       "  <th>Time:</th>               <td>15:14:04</td>     <th>  Pearson chi2:      </th> <td>6.89e+04</td>\n",
       "</tr>\n",
       "<tr>\n",
       "  <th>No. Iterations:</th>         <td>6</td>        <th>                     </th>     <td> </td>   \n",
       "</tr>\n",
       "</table>\n",
       "<table class=\"simpletable\">\n",
       "<tr>\n",
       "                <td></td>                   <th>coef</th>     <th>std err</th>      <th>z</th>      <th>P>|z|</th>  <th>[0.025</th>    <th>0.975]</th>  \n",
       "</tr>\n",
       "<tr>\n",
       "  <th>Intercept</th>                     <td>   -2.9137</td> <td>    0.323</td> <td>   -9.034</td> <td> 0.000</td> <td>   -3.546</td> <td>   -2.282</td>\n",
       "</tr>\n",
       "<tr>\n",
       "  <th>VehAge[T.oldest cars]</th>         <td>   -0.0578</td> <td>    0.041</td> <td>   -1.409</td> <td> 0.159</td> <td>   -0.138</td> <td>    0.023</td>\n",
       "</tr>\n",
       "<tr>\n",
       "  <th>VehAge[T.young cars]</th>          <td>    0.1091</td> <td>    0.040</td> <td>    2.752</td> <td> 0.006</td> <td>    0.031</td> <td>    0.187</td>\n",
       "</tr>\n",
       "<tr>\n",
       "  <th>VehAge[T.youngest cars]</th>       <td>    0.0371</td> <td>    0.048</td> <td>    0.769</td> <td> 0.442</td> <td>   -0.057</td> <td>    0.132</td>\n",
       "</tr>\n",
       "<tr>\n",
       "  <th>VehBody[T.Convertible]</th>        <td>   -1.7470</td> <td>    0.668</td> <td>   -2.616</td> <td> 0.009</td> <td>   -3.056</td> <td>   -0.438</td>\n",
       "</tr>\n",
       "<tr>\n",
       "  <th>VehBody[T.Coupe]</th>              <td>   -0.5570</td> <td>    0.337</td> <td>   -1.653</td> <td> 0.098</td> <td>   -1.217</td> <td>    0.104</td>\n",
       "</tr>\n",
       "<tr>\n",
       "  <th>VehBody[T.Hardtop]</th>            <td>   -0.8556</td> <td>    0.328</td> <td>   -2.610</td> <td> 0.009</td> <td>   -1.498</td> <td>   -0.213</td>\n",
       "</tr>\n",
       "<tr>\n",
       "  <th>VehBody[T.Hatchback]</th>          <td>   -0.9953</td> <td>    0.318</td> <td>   -3.128</td> <td> 0.002</td> <td>   -1.619</td> <td>   -0.372</td>\n",
       "</tr>\n",
       "<tr>\n",
       "  <th>VehBody[T.Minibus]</th>            <td>   -1.0258</td> <td>    0.350</td> <td>   -2.930</td> <td> 0.003</td> <td>   -1.712</td> <td>   -0.340</td>\n",
       "</tr>\n",
       "<tr>\n",
       "  <th>VehBody[T.Motorized caravan]</th>  <td>   -0.4220</td> <td>    0.409</td> <td>   -1.031</td> <td> 0.303</td> <td>   -1.224</td> <td>    0.380</td>\n",
       "</tr>\n",
       "<tr>\n",
       "  <th>VehBody[T.Panel van]</th>          <td>   -0.8911</td> <td>    0.339</td> <td>   -2.630</td> <td> 0.009</td> <td>   -1.555</td> <td>   -0.227</td>\n",
       "</tr>\n",
       "<tr>\n",
       "  <th>VehBody[T.Roadster]</th>           <td>   -0.6071</td> <td>    0.660</td> <td>   -0.920</td> <td> 0.358</td> <td>   -1.900</td> <td>    0.686</td>\n",
       "</tr>\n",
       "<tr>\n",
       "  <th>VehBody[T.Sedan]</th>              <td>   -0.9454</td> <td>    0.318</td> <td>   -2.976</td> <td> 0.003</td> <td>   -1.568</td> <td>   -0.323</td>\n",
       "</tr>\n",
       "<tr>\n",
       "  <th>VehBody[T.Station wagon]</th>      <td>   -0.9379</td> <td>    0.318</td> <td>   -2.949</td> <td> 0.003</td> <td>   -1.561</td> <td>   -0.315</td>\n",
       "</tr>\n",
       "<tr>\n",
       "  <th>VehBody[T.Truck]</th>              <td>   -1.0031</td> <td>    0.328</td> <td>   -3.055</td> <td> 0.002</td> <td>   -1.647</td> <td>   -0.360</td>\n",
       "</tr>\n",
       "<tr>\n",
       "  <th>VehBody[T.Utility]</th>            <td>   -1.1507</td> <td>    0.322</td> <td>   -3.573</td> <td> 0.000</td> <td>   -1.782</td> <td>   -0.519</td>\n",
       "</tr>\n",
       "<tr>\n",
       "  <th>Gender[T.Male]</th>                <td>   -0.0201</td> <td>    0.030</td> <td>   -0.668</td> <td> 0.504</td> <td>   -0.079</td> <td>    0.039</td>\n",
       "</tr>\n",
       "<tr>\n",
       "  <th>DrivAge[T.older work. people]</th> <td>    0.2190</td> <td>    0.049</td> <td>    4.477</td> <td> 0.000</td> <td>    0.123</td> <td>    0.315</td>\n",
       "</tr>\n",
       "<tr>\n",
       "  <th>DrivAge[T.oldest people]</th>      <td>    0.0093</td> <td>    0.064</td> <td>    0.145</td> <td> 0.885</td> <td>   -0.117</td> <td>    0.135</td>\n",
       "</tr>\n",
       "<tr>\n",
       "  <th>DrivAge[T.working people]</th>     <td>    0.2458</td> <td>    0.049</td> <td>    5.012</td> <td> 0.000</td> <td>    0.150</td> <td>    0.342</td>\n",
       "</tr>\n",
       "<tr>\n",
       "  <th>DrivAge[T.young people]</th>       <td>    0.2990</td> <td>    0.051</td> <td>    5.898</td> <td> 0.000</td> <td>    0.200</td> <td>    0.398</td>\n",
       "</tr>\n",
       "<tr>\n",
       "  <th>DrivAge[T.youngest people]</th>    <td>    0.4717</td> <td>    0.059</td> <td>    7.987</td> <td> 0.000</td> <td>    0.356</td> <td>    0.587</td>\n",
       "</tr>\n",
       "<tr>\n",
       "  <th>Exposure</th>                      <td>    1.8000</td> <td>    0.051</td> <td>   35.289</td> <td> 0.000</td> <td>    1.700</td> <td>    1.900</td>\n",
       "</tr>\n",
       "<tr>\n",
       "  <th>VehValue</th>                      <td>    0.0275</td> <td>    0.017</td> <td>    1.609</td> <td> 0.108</td> <td>   -0.006</td> <td>    0.061</td>\n",
       "</tr>\n",
       "</table>"
      ],
      "text/plain": [
       "<class 'statsmodels.iolib.summary.Summary'>\n",
       "\"\"\"\n",
       "                 Generalized Linear Model Regression Results                  \n",
       "==============================================================================\n",
       "Dep. Variable:                ClaimNb   No. Observations:                67856\n",
       "Model:                            GLM   Df Residuals:                    67832\n",
       "Model Family:                 Poisson   Df Model:                           23\n",
       "Link Function:                    log   Scale:                             1.0\n",
       "Method:                          IRLS   Log-Likelihood:                -17371.\n",
       "Date:                Sat, 03 Feb 2018   Deviance:                       25308.\n",
       "Time:                        15:14:04   Pearson chi2:                 6.89e+04\n",
       "No. Iterations:                     6                                         \n",
       "=================================================================================================\n",
       "                                    coef    std err          z      P>|z|      [0.025      0.975]\n",
       "-------------------------------------------------------------------------------------------------\n",
       "Intercept                        -2.9137      0.323     -9.034      0.000      -3.546      -2.282\n",
       "VehAge[T.oldest cars]            -0.0578      0.041     -1.409      0.159      -0.138       0.023\n",
       "VehAge[T.young cars]              0.1091      0.040      2.752      0.006       0.031       0.187\n",
       "VehAge[T.youngest cars]           0.0371      0.048      0.769      0.442      -0.057       0.132\n",
       "VehBody[T.Convertible]           -1.7470      0.668     -2.616      0.009      -3.056      -0.438\n",
       "VehBody[T.Coupe]                 -0.5570      0.337     -1.653      0.098      -1.217       0.104\n",
       "VehBody[T.Hardtop]               -0.8556      0.328     -2.610      0.009      -1.498      -0.213\n",
       "VehBody[T.Hatchback]             -0.9953      0.318     -3.128      0.002      -1.619      -0.372\n",
       "VehBody[T.Minibus]               -1.0258      0.350     -2.930      0.003      -1.712      -0.340\n",
       "VehBody[T.Motorized caravan]     -0.4220      0.409     -1.031      0.303      -1.224       0.380\n",
       "VehBody[T.Panel van]             -0.8911      0.339     -2.630      0.009      -1.555      -0.227\n",
       "VehBody[T.Roadster]              -0.6071      0.660     -0.920      0.358      -1.900       0.686\n",
       "VehBody[T.Sedan]                 -0.9454      0.318     -2.976      0.003      -1.568      -0.323\n",
       "VehBody[T.Station wagon]         -0.9379      0.318     -2.949      0.003      -1.561      -0.315\n",
       "VehBody[T.Truck]                 -1.0031      0.328     -3.055      0.002      -1.647      -0.360\n",
       "VehBody[T.Utility]               -1.1507      0.322     -3.573      0.000      -1.782      -0.519\n",
       "Gender[T.Male]                   -0.0201      0.030     -0.668      0.504      -0.079       0.039\n",
       "DrivAge[T.older work. people]     0.2190      0.049      4.477      0.000       0.123       0.315\n",
       "DrivAge[T.oldest people]          0.0093      0.064      0.145      0.885      -0.117       0.135\n",
       "DrivAge[T.working people]         0.2458      0.049      5.012      0.000       0.150       0.342\n",
       "DrivAge[T.young people]           0.2990      0.051      5.898      0.000       0.200       0.398\n",
       "DrivAge[T.youngest people]        0.4717      0.059      7.987      0.000       0.356       0.587\n",
       "Exposure                          1.8000      0.051     35.289      0.000       1.700       1.900\n",
       "VehValue                          0.0275      0.017      1.609      0.108      -0.006       0.061\n",
       "=================================================================================================\n",
       "\"\"\""
      ]
     },
     "execution_count": 3,
     "metadata": {},
     "output_type": "execute_result"
    }
   ],
   "source": [
    "import statsmodels.api as sm\n",
    "import statsmodels.formula.api as smf\n",
    "\n",
    "#initial fit of Poisson regression\n",
    "all_columns = \"+\".join(ins.columns[0:6])\n",
    "my_formula=\"ClaimNb~\"+all_columns\n",
    "first_fit = smf.glm(formula = my_formula, data=ins, family=sm.families.Poisson()).fit()\n",
    "first_fit.summary()"
   ]
  },
  {
   "cell_type": "markdown",
   "metadata": {},
   "source": [
    "# Overdispersion \n",
    "* There is a property about poisson distribution: Mean = variance\n",
    "* It is common that variance > mean for the count data and it is called overdispersion\n",
    "    * Such that it may not be a good choice to model the count data by poisson regression\n",
    "* A common solution is to use negative binomial distribution which relax the constraint on the mean and variance\n"
   ]
  },
  {
   "cell_type": "markdown",
   "metadata": {},
   "source": [
    "# Checking Overdispersion\n",
    "* The mean and variance of the ClaimNb is 0.073 and 0.077 respectively\n",
    "    * It seems that they are close to each other and overdipersion is not diagnosed \n",
    "* However, the number of claims for different policyholders is subjected to different time periods\n",
    "    * So, it is suggested to model 𝑟=𝐶𝑙𝑎𝑖𝑚𝑁𝑏/𝐸𝑥𝑝𝑜𝑠𝑢𝑟𝑒\n",
    "    * It is equivalent to add an offset term (i.e. log(Exposure) to the poisson regression\n",
    "* The mean and variance of r:\n",
    "    * Mean: 0.214 , variance: 8.30\n",
    "    * Obviously, overdispersion is detected now\n",
    "* **offset** is an optional setting for **glm()** and we will offset the log(Exposure) for the coming up analysis\n"
   ]
  },
  {
   "cell_type": "code",
   "execution_count": 8,
   "metadata": {},
   "outputs": [
    {
     "name": "stdout",
     "output_type": "stream",
     "text": [
      "Mean of ClaimNb: 0.073 Var of ClaimNb: 0.077\n",
      "Mean of r: 0.214 Var of r: 8.296\n"
     ]
    }
   ],
   "source": [
    "#Checking Overdispersion\n",
    "print (\"Mean of ClaimNb: %.3f\" % np.mean(ins['ClaimNb']), \"Var of ClaimNb: %.3f\" % np.var(ins['ClaimNb'])) \n",
    "print (\"Mean of r: %.3f\" %np.mean(ins['ClaimNb']/ins['Exposure']),\"Var of r: %.3f\" %  np.var(ins['ClaimNb']/ins['Exposure']))"
   ]
  },
  {
   "cell_type": "markdown",
   "metadata": {},
   "source": [
    "# The new poisson regression model:\n"
   ]
  },
  {
   "cell_type": "code",
   "execution_count": 6,
   "metadata": {},
   "outputs": [
    {
     "data": {
      "text/html": [
       "<table class=\"simpletable\">\n",
       "<caption>Generalized Linear Model Regression Results</caption>\n",
       "<tr>\n",
       "  <th>Dep. Variable:</th>       <td>ClaimNb</td>     <th>  No. Observations:  </th>  <td> 67856</td> \n",
       "</tr>\n",
       "<tr>\n",
       "  <th>Model:</th>                 <td>GLM</td>       <th>  Df Residuals:      </th>  <td> 67833</td> \n",
       "</tr>\n",
       "<tr>\n",
       "  <th>Model Family:</th>        <td>Poisson</td>     <th>  Df Model:          </th>  <td>    22</td> \n",
       "</tr>\n",
       "<tr>\n",
       "  <th>Link Function:</th>         <td>log</td>       <th>  Scale:             </th>    <td>1.0</td>  \n",
       "</tr>\n",
       "<tr>\n",
       "  <th>Method:</th>               <td>IRLS</td>       <th>  Log-Likelihood:    </th> <td> -17389.</td>\n",
       "</tr>\n",
       "<tr>\n",
       "  <th>Date:</th>           <td>Fri, 02 Feb 2018</td> <th>  Deviance:          </th> <td>  25343.</td>\n",
       "</tr>\n",
       "<tr>\n",
       "  <th>Time:</th>               <td>15:48:24</td>     <th>  Pearson chi2:      </th> <td>9.55e+04</td>\n",
       "</tr>\n",
       "<tr>\n",
       "  <th>No. Iterations:</th>         <td>6</td>        <th>                     </th>     <td> </td>   \n",
       "</tr>\n",
       "</table>\n",
       "<table class=\"simpletable\">\n",
       "<tr>\n",
       "                <td></td>                   <th>coef</th>     <th>std err</th>      <th>z</th>      <th>P>|z|</th>  <th>[0.025</th>    <th>0.975]</th>  \n",
       "</tr>\n",
       "<tr>\n",
       "  <th>Intercept</th>                     <td>   -1.1983</td> <td>    0.321</td> <td>   -3.736</td> <td> 0.000</td> <td>   -1.827</td> <td>   -0.570</td>\n",
       "</tr>\n",
       "<tr>\n",
       "  <th>VehAge[T.oldest cars]</th>         <td>   -0.0593</td> <td>    0.041</td> <td>   -1.444</td> <td> 0.149</td> <td>   -0.140</td> <td>    0.021</td>\n",
       "</tr>\n",
       "<tr>\n",
       "  <th>VehAge[T.young cars]</th>          <td>    0.1114</td> <td>    0.040</td> <td>    2.810</td> <td> 0.005</td> <td>    0.034</td> <td>    0.189</td>\n",
       "</tr>\n",
       "<tr>\n",
       "  <th>VehAge[T.youngest cars]</th>       <td>    0.0555</td> <td>    0.048</td> <td>    1.152</td> <td> 0.249</td> <td>   -0.039</td> <td>    0.150</td>\n",
       "</tr>\n",
       "<tr>\n",
       "  <th>VehBody[T.Convertible]</th>        <td>   -1.6703</td> <td>    0.668</td> <td>   -2.501</td> <td> 0.012</td> <td>   -2.979</td> <td>   -0.361</td>\n",
       "</tr>\n",
       "<tr>\n",
       "  <th>VehBody[T.Coupe]</th>              <td>   -0.5109</td> <td>    0.337</td> <td>   -1.516</td> <td> 0.129</td> <td>   -1.171</td> <td>    0.149</td>\n",
       "</tr>\n",
       "<tr>\n",
       "  <th>VehBody[T.Hardtop]</th>            <td>   -0.8335</td> <td>    0.328</td> <td>   -2.542</td> <td> 0.011</td> <td>   -1.476</td> <td>   -0.191</td>\n",
       "</tr>\n",
       "<tr>\n",
       "  <th>VehBody[T.Hatchback]</th>          <td>   -0.9754</td> <td>    0.318</td> <td>   -3.065</td> <td> 0.002</td> <td>   -1.599</td> <td>   -0.352</td>\n",
       "</tr>\n",
       "<tr>\n",
       "  <th>VehBody[T.Minibus]</th>            <td>   -0.9843</td> <td>    0.350</td> <td>   -2.812</td> <td> 0.005</td> <td>   -1.670</td> <td>   -0.298</td>\n",
       "</tr>\n",
       "<tr>\n",
       "  <th>VehBody[T.Motorized caravan]</th>  <td>   -0.3880</td> <td>    0.409</td> <td>   -0.948</td> <td> 0.343</td> <td>   -1.190</td> <td>    0.414</td>\n",
       "</tr>\n",
       "<tr>\n",
       "  <th>VehBody[T.Panel van]</th>          <td>   -0.8529</td> <td>    0.339</td> <td>   -2.517</td> <td> 0.012</td> <td>   -1.517</td> <td>   -0.189</td>\n",
       "</tr>\n",
       "<tr>\n",
       "  <th>VehBody[T.Roadster]</th>           <td>   -0.5649</td> <td>    0.660</td> <td>   -0.856</td> <td> 0.392</td> <td>   -1.858</td> <td>    0.728</td>\n",
       "</tr>\n",
       "<tr>\n",
       "  <th>VehBody[T.Sedan]</th>              <td>   -0.9240</td> <td>    0.318</td> <td>   -2.909</td> <td> 0.004</td> <td>   -1.547</td> <td>   -0.301</td>\n",
       "</tr>\n",
       "<tr>\n",
       "  <th>VehBody[T.Station wagon]</th>      <td>   -0.9119</td> <td>    0.318</td> <td>   -2.867</td> <td> 0.004</td> <td>   -1.535</td> <td>   -0.289</td>\n",
       "</tr>\n",
       "<tr>\n",
       "  <th>VehBody[T.Truck]</th>              <td>   -0.9632</td> <td>    0.328</td> <td>   -2.933</td> <td> 0.003</td> <td>   -1.607</td> <td>   -0.320</td>\n",
       "</tr>\n",
       "<tr>\n",
       "  <th>VehBody[T.Utility]</th>            <td>   -1.1201</td> <td>    0.322</td> <td>   -3.478</td> <td> 0.001</td> <td>   -1.751</td> <td>   -0.489</td>\n",
       "</tr>\n",
       "<tr>\n",
       "  <th>Gender[T.Male]</th>                <td>   -0.0229</td> <td>    0.030</td> <td>   -0.761</td> <td> 0.447</td> <td>   -0.082</td> <td>    0.036</td>\n",
       "</tr>\n",
       "<tr>\n",
       "  <th>DrivAge[T.older work. people]</th> <td>    0.2191</td> <td>    0.049</td> <td>    4.479</td> <td> 0.000</td> <td>    0.123</td> <td>    0.315</td>\n",
       "</tr>\n",
       "<tr>\n",
       "  <th>DrivAge[T.oldest people]</th>      <td>    0.0158</td> <td>    0.064</td> <td>    0.246</td> <td> 0.806</td> <td>   -0.110</td> <td>    0.142</td>\n",
       "</tr>\n",
       "<tr>\n",
       "  <th>DrivAge[T.working people]</th>     <td>    0.2475</td> <td>    0.049</td> <td>    5.048</td> <td> 0.000</td> <td>    0.151</td> <td>    0.344</td>\n",
       "</tr>\n",
       "<tr>\n",
       "  <th>DrivAge[T.young people]</th>       <td>    0.3075</td> <td>    0.051</td> <td>    6.067</td> <td> 0.000</td> <td>    0.208</td> <td>    0.407</td>\n",
       "</tr>\n",
       "<tr>\n",
       "  <th>DrivAge[T.youngest people]</th>    <td>    0.4777</td> <td>    0.059</td> <td>    8.091</td> <td> 0.000</td> <td>    0.362</td> <td>    0.593</td>\n",
       "</tr>\n",
       "<tr>\n",
       "  <th>VehValue</th>                      <td>    0.0239</td> <td>    0.017</td> <td>    1.390</td> <td> 0.165</td> <td>   -0.010</td> <td>    0.058</td>\n",
       "</tr>\n",
       "</table>"
      ],
      "text/plain": [
       "<class 'statsmodels.iolib.summary.Summary'>\n",
       "\"\"\"\n",
       "                 Generalized Linear Model Regression Results                  \n",
       "==============================================================================\n",
       "Dep. Variable:                ClaimNb   No. Observations:                67856\n",
       "Model:                            GLM   Df Residuals:                    67833\n",
       "Model Family:                 Poisson   Df Model:                           22\n",
       "Link Function:                    log   Scale:                             1.0\n",
       "Method:                          IRLS   Log-Likelihood:                -17389.\n",
       "Date:                Fri, 02 Feb 2018   Deviance:                       25343.\n",
       "Time:                        15:48:24   Pearson chi2:                 9.55e+04\n",
       "No. Iterations:                     6                                         \n",
       "=================================================================================================\n",
       "                                    coef    std err          z      P>|z|      [0.025      0.975]\n",
       "-------------------------------------------------------------------------------------------------\n",
       "Intercept                        -1.1983      0.321     -3.736      0.000      -1.827      -0.570\n",
       "VehAge[T.oldest cars]            -0.0593      0.041     -1.444      0.149      -0.140       0.021\n",
       "VehAge[T.young cars]              0.1114      0.040      2.810      0.005       0.034       0.189\n",
       "VehAge[T.youngest cars]           0.0555      0.048      1.152      0.249      -0.039       0.150\n",
       "VehBody[T.Convertible]           -1.6703      0.668     -2.501      0.012      -2.979      -0.361\n",
       "VehBody[T.Coupe]                 -0.5109      0.337     -1.516      0.129      -1.171       0.149\n",
       "VehBody[T.Hardtop]               -0.8335      0.328     -2.542      0.011      -1.476      -0.191\n",
       "VehBody[T.Hatchback]             -0.9754      0.318     -3.065      0.002      -1.599      -0.352\n",
       "VehBody[T.Minibus]               -0.9843      0.350     -2.812      0.005      -1.670      -0.298\n",
       "VehBody[T.Motorized caravan]     -0.3880      0.409     -0.948      0.343      -1.190       0.414\n",
       "VehBody[T.Panel van]             -0.8529      0.339     -2.517      0.012      -1.517      -0.189\n",
       "VehBody[T.Roadster]              -0.5649      0.660     -0.856      0.392      -1.858       0.728\n",
       "VehBody[T.Sedan]                 -0.9240      0.318     -2.909      0.004      -1.547      -0.301\n",
       "VehBody[T.Station wagon]         -0.9119      0.318     -2.867      0.004      -1.535      -0.289\n",
       "VehBody[T.Truck]                 -0.9632      0.328     -2.933      0.003      -1.607      -0.320\n",
       "VehBody[T.Utility]               -1.1201      0.322     -3.478      0.001      -1.751      -0.489\n",
       "Gender[T.Male]                   -0.0229      0.030     -0.761      0.447      -0.082       0.036\n",
       "DrivAge[T.older work. people]     0.2191      0.049      4.479      0.000       0.123       0.315\n",
       "DrivAge[T.oldest people]          0.0158      0.064      0.246      0.806      -0.110       0.142\n",
       "DrivAge[T.working people]         0.2475      0.049      5.048      0.000       0.151       0.344\n",
       "DrivAge[T.young people]           0.3075      0.051      6.067      0.000       0.208       0.407\n",
       "DrivAge[T.youngest people]        0.4777      0.059      8.091      0.000       0.362       0.593\n",
       "VehValue                          0.0239      0.017      1.390      0.165      -0.010       0.058\n",
       "=================================================================================================\n",
       "\"\"\""
      ]
     },
     "execution_count": 6,
     "metadata": {},
     "output_type": "execute_result"
    }
   ],
   "source": [
    "#poisson regression with offset\n",
    "all_columns = \"+\".join(ins.columns[0:6])\n",
    "my_formula=\"ClaimNb~\"+all_columns\n",
    "my_formula=my_formula+\"-Exposure\"\n",
    "poi_fit = smf.glm(formula = my_formula, offset=np.log(ins['Exposure']), data=ins, family=sm.families.Poisson()).fit()\n",
    "poi_fit.summary()"
   ]
  },
  {
   "cell_type": "markdown",
   "metadata": {},
   "source": [
    "# Negative Binomial Regression\n",
    "* **negativebinomial()** from **statsmodels.formula.api** fits a negative binomial regression\n"
   ]
  },
  {
   "cell_type": "code",
   "execution_count": 11,
   "metadata": {},
   "outputs": [
    {
     "name": "stdout",
     "output_type": "stream",
     "text": [
      "Warning: Maximum number of iterations has been exceeded.\n",
      "         Current function value: 0.255971\n",
      "         Iterations: 35\n",
      "         Function evaluations: 36\n",
      "         Gradient evaluations: 36\n"
     ]
    },
    {
     "name": "stderr",
     "output_type": "stream",
     "text": [
      "C:\\Users\\imelvis\\AppData\\Local\\Continuum\\anaconda3\\lib\\site-packages\\statsmodels\\base\\model.py:496: ConvergenceWarning: Maximum Likelihood optimization failed to converge. Check mle_retvals\n",
      "  \"Check mle_retvals\", ConvergenceWarning)\n"
     ]
    },
    {
     "data": {
      "text/html": [
       "<table class=\"simpletable\">\n",
       "<caption>NegativeBinomial Regression Results</caption>\n",
       "<tr>\n",
       "  <th>Dep. Variable:</th>      <td>ClaimNb</td>     <th>  No. Observations:  </th>  <td> 67856</td>  \n",
       "</tr>\n",
       "<tr>\n",
       "  <th>Model:</th>         <td>NegativeBinomial</td> <th>  Df Residuals:      </th>  <td> 67833</td>  \n",
       "</tr>\n",
       "<tr>\n",
       "  <th>Method:</th>               <td>MLE</td>       <th>  Df Model:          </th>  <td>    22</td>  \n",
       "</tr>\n",
       "<tr>\n",
       "  <th>Date:</th>          <td>Fri, 19 Jan 2018</td> <th>  Pseudo R-squ.:     </th> <td>0.004506</td> \n",
       "</tr>\n",
       "<tr>\n",
       "  <th>Time:</th>              <td>11:33:13</td>     <th>  Log-Likelihood:    </th> <td> -17369.</td> \n",
       "</tr>\n",
       "<tr>\n",
       "  <th>converged:</th>           <td>False</td>      <th>  LL-Null:           </th> <td> -17448.</td> \n",
       "</tr>\n",
       "<tr>\n",
       "  <th> </th>                      <td> </td>        <th>  LLR p-value:       </th> <td>2.036e-22</td>\n",
       "</tr>\n",
       "</table>\n",
       "<table class=\"simpletable\">\n",
       "<tr>\n",
       "                <td></td>                   <th>coef</th>     <th>std err</th>      <th>z</th>      <th>P>|z|</th>  <th>[0.025</th>    <th>0.975]</th>  \n",
       "</tr>\n",
       "<tr>\n",
       "  <th>Intercept</th>                     <td>   -1.2050</td> <td>    0.338</td> <td>   -3.562</td> <td> 0.000</td> <td>   -1.868</td> <td>   -0.542</td>\n",
       "</tr>\n",
       "<tr>\n",
       "  <th>VehAge[T.oldest cars]</th>         <td>   -0.0575</td> <td>    0.042</td> <td>   -1.370</td> <td> 0.171</td> <td>   -0.140</td> <td>    0.025</td>\n",
       "</tr>\n",
       "<tr>\n",
       "  <th>VehAge[T.young cars]</th>          <td>    0.1074</td> <td>    0.041</td> <td>    2.643</td> <td> 0.008</td> <td>    0.028</td> <td>    0.187</td>\n",
       "</tr>\n",
       "<tr>\n",
       "  <th>VehAge[T.youngest cars]</th>       <td>    0.0485</td> <td>    0.049</td> <td>    0.983</td> <td> 0.325</td> <td>   -0.048</td> <td>    0.145</td>\n",
       "</tr>\n",
       "<tr>\n",
       "  <th>VehBody[T.Convertible]</th>        <td>   -1.6703</td> <td>    0.681</td> <td>   -2.452</td> <td> 0.014</td> <td>   -3.005</td> <td>   -0.335</td>\n",
       "</tr>\n",
       "<tr>\n",
       "  <th>VehBody[T.Coupe]</th>              <td>   -0.5075</td> <td>    0.355</td> <td>   -1.431</td> <td> 0.152</td> <td>   -1.203</td> <td>    0.188</td>\n",
       "</tr>\n",
       "<tr>\n",
       "  <th>VehBody[T.Hardtop]</th>            <td>   -0.8358</td> <td>    0.345</td> <td>   -2.420</td> <td> 0.016</td> <td>   -1.513</td> <td>   -0.159</td>\n",
       "</tr>\n",
       "<tr>\n",
       "  <th>VehBody[T.Hatchback]</th>          <td>   -0.9667</td> <td>    0.336</td> <td>   -2.880</td> <td> 0.004</td> <td>   -1.625</td> <td>   -0.309</td>\n",
       "</tr>\n",
       "<tr>\n",
       "  <th>VehBody[T.Minibus]</th>            <td>   -0.9882</td> <td>    0.367</td> <td>   -2.691</td> <td> 0.007</td> <td>   -1.708</td> <td>   -0.268</td>\n",
       "</tr>\n",
       "<tr>\n",
       "  <th>VehBody[T.Motorized caravan]</th>  <td>   -0.3873</td> <td>    0.429</td> <td>   -0.903</td> <td> 0.367</td> <td>   -1.228</td> <td>    0.454</td>\n",
       "</tr>\n",
       "<tr>\n",
       "  <th>VehBody[T.Panel van]</th>          <td>   -0.8581</td> <td>    0.356</td> <td>   -2.407</td> <td> 0.016</td> <td>   -1.557</td> <td>   -0.159</td>\n",
       "</tr>\n",
       "<tr>\n",
       "  <th>VehBody[T.Roadster]</th>           <td>   -0.5660</td> <td>    0.682</td> <td>   -0.829</td> <td> 0.407</td> <td>   -1.904</td> <td>    0.772</td>\n",
       "</tr>\n",
       "<tr>\n",
       "  <th>VehBody[T.Sedan]</th>              <td>   -0.9197</td> <td>    0.335</td> <td>   -2.744</td> <td> 0.006</td> <td>   -1.577</td> <td>   -0.263</td>\n",
       "</tr>\n",
       "<tr>\n",
       "  <th>VehBody[T.Station wagon]</th>      <td>   -0.9120</td> <td>    0.336</td> <td>   -2.718</td> <td> 0.007</td> <td>   -1.570</td> <td>   -0.254</td>\n",
       "</tr>\n",
       "<tr>\n",
       "  <th>VehBody[T.Truck]</th>              <td>   -0.9700</td> <td>    0.346</td> <td>   -2.805</td> <td> 0.005</td> <td>   -1.648</td> <td>   -0.292</td>\n",
       "</tr>\n",
       "<tr>\n",
       "  <th>VehBody[T.Utility]</th>            <td>   -1.1231</td> <td>    0.340</td> <td>   -3.308</td> <td> 0.001</td> <td>   -1.789</td> <td>   -0.458</td>\n",
       "</tr>\n",
       "<tr>\n",
       "  <th>Gender[T.Male]</th>                <td>   -0.0202</td> <td>    0.031</td> <td>   -0.656</td> <td> 0.512</td> <td>   -0.080</td> <td>    0.040</td>\n",
       "</tr>\n",
       "<tr>\n",
       "  <th>DrivAge[T.older work. people]</th> <td>    0.2200</td> <td>    0.050</td> <td>    4.410</td> <td> 0.000</td> <td>    0.122</td> <td>    0.318</td>\n",
       "</tr>\n",
       "<tr>\n",
       "  <th>DrivAge[T.oldest people]</th>      <td>    0.0118</td> <td>    0.066</td> <td>    0.180</td> <td> 0.857</td> <td>   -0.117</td> <td>    0.140</td>\n",
       "</tr>\n",
       "<tr>\n",
       "  <th>DrivAge[T.working people]</th>     <td>    0.2487</td> <td>    0.050</td> <td>    4.972</td> <td> 0.000</td> <td>    0.151</td> <td>    0.347</td>\n",
       "</tr>\n",
       "<tr>\n",
       "  <th>DrivAge[T.young people]</th>       <td>    0.3099</td> <td>    0.052</td> <td>    5.993</td> <td> 0.000</td> <td>    0.209</td> <td>    0.411</td>\n",
       "</tr>\n",
       "<tr>\n",
       "  <th>DrivAge[T.youngest people]</th>    <td>    0.4822</td> <td>    0.060</td> <td>    7.976</td> <td> 0.000</td> <td>    0.364</td> <td>    0.601</td>\n",
       "</tr>\n",
       "<tr>\n",
       "  <th>VehValue</th>                      <td>    0.0265</td> <td>    0.018</td> <td>    1.497</td> <td> 0.134</td> <td>   -0.008</td> <td>    0.061</td>\n",
       "</tr>\n",
       "<tr>\n",
       "  <th>alpha</th>                         <td>    0.4432</td> <td>    0.082</td> <td>    5.422</td> <td> 0.000</td> <td>    0.283</td> <td>    0.603</td>\n",
       "</tr>\n",
       "</table>"
      ],
      "text/plain": [
       "<class 'statsmodels.iolib.summary.Summary'>\n",
       "\"\"\"\n",
       "                     NegativeBinomial Regression Results                      \n",
       "==============================================================================\n",
       "Dep. Variable:                ClaimNb   No. Observations:                67856\n",
       "Model:               NegativeBinomial   Df Residuals:                    67833\n",
       "Method:                           MLE   Df Model:                           22\n",
       "Date:                Fri, 19 Jan 2018   Pseudo R-squ.:                0.004506\n",
       "Time:                        11:33:13   Log-Likelihood:                -17369.\n",
       "converged:                      False   LL-Null:                       -17448.\n",
       "                                        LLR p-value:                 2.036e-22\n",
       "=================================================================================================\n",
       "                                    coef    std err          z      P>|z|      [0.025      0.975]\n",
       "-------------------------------------------------------------------------------------------------\n",
       "Intercept                        -1.2050      0.338     -3.562      0.000      -1.868      -0.542\n",
       "VehAge[T.oldest cars]            -0.0575      0.042     -1.370      0.171      -0.140       0.025\n",
       "VehAge[T.young cars]              0.1074      0.041      2.643      0.008       0.028       0.187\n",
       "VehAge[T.youngest cars]           0.0485      0.049      0.983      0.325      -0.048       0.145\n",
       "VehBody[T.Convertible]           -1.6703      0.681     -2.452      0.014      -3.005      -0.335\n",
       "VehBody[T.Coupe]                 -0.5075      0.355     -1.431      0.152      -1.203       0.188\n",
       "VehBody[T.Hardtop]               -0.8358      0.345     -2.420      0.016      -1.513      -0.159\n",
       "VehBody[T.Hatchback]             -0.9667      0.336     -2.880      0.004      -1.625      -0.309\n",
       "VehBody[T.Minibus]               -0.9882      0.367     -2.691      0.007      -1.708      -0.268\n",
       "VehBody[T.Motorized caravan]     -0.3873      0.429     -0.903      0.367      -1.228       0.454\n",
       "VehBody[T.Panel van]             -0.8581      0.356     -2.407      0.016      -1.557      -0.159\n",
       "VehBody[T.Roadster]              -0.5660      0.682     -0.829      0.407      -1.904       0.772\n",
       "VehBody[T.Sedan]                 -0.9197      0.335     -2.744      0.006      -1.577      -0.263\n",
       "VehBody[T.Station wagon]         -0.9120      0.336     -2.718      0.007      -1.570      -0.254\n",
       "VehBody[T.Truck]                 -0.9700      0.346     -2.805      0.005      -1.648      -0.292\n",
       "VehBody[T.Utility]               -1.1231      0.340     -3.308      0.001      -1.789      -0.458\n",
       "Gender[T.Male]                   -0.0202      0.031     -0.656      0.512      -0.080       0.040\n",
       "DrivAge[T.older work. people]     0.2200      0.050      4.410      0.000       0.122       0.318\n",
       "DrivAge[T.oldest people]          0.0118      0.066      0.180      0.857      -0.117       0.140\n",
       "DrivAge[T.working people]         0.2487      0.050      4.972      0.000       0.151       0.347\n",
       "DrivAge[T.young people]           0.3099      0.052      5.993      0.000       0.209       0.411\n",
       "DrivAge[T.youngest people]        0.4822      0.060      7.976      0.000       0.364       0.601\n",
       "VehValue                          0.0265      0.018      1.497      0.134      -0.008       0.061\n",
       "alpha                             0.4432      0.082      5.422      0.000       0.283       0.603\n",
       "=================================================================================================\n",
       "\"\"\""
      ]
     },
     "execution_count": 11,
     "metadata": {},
     "output_type": "execute_result"
    }
   ],
   "source": [
    "#negative biominal regression with offset\n",
    "\n",
    "all_columns = \"+\".join(ins.columns[0:6])\n",
    "my_formula=\"ClaimNb~\"+all_columns\n",
    "my_formula=my_formula+\"-Exposure\"\n",
    "#nb_fit = smf.glm(formula = my_formula, offset=np.log(ins['Exposure']), data=ins, family=sm.families.NegativeBinomial(alpha=0.4432)).fit()\n",
    "nb_fit = smf.negativebinomial(formula=my_formula, data=ins, offset=np.log(ins['Exposure'])).fit()\n",
    "nb_fit.summary()"
   ]
  },
  {
   "attachments": {},
   "cell_type": "markdown",
   "metadata": {},
   "source": [
    "# Poi. Reg. Vs NegBin. Reg.\n",
    "* Hypothesis Testing (I) for:\n",
    "    * H_0: Poisson Regression VS H_1: Negative Binomial Regression\n",
    "    * It can be conducted by OD test and the test statistics is \n",
    "        * LR=2(logLikehood of negative binomial regression - logLikehood of poisson regression)\n",
    "        * it follows a Chi-Square distribution with df=1\n",
    "* Hypothesis Testing (II) for:\n",
    "    * H_0: dispresion = 0 VS H_1: dispersion > 0\n",
    "    * It can be done by Cameron and Trivedi test\n",
    "    * It is based on a simple linear regression (without fitting the intercept): fit z on the fitted values\n",
    "* Hypothesis Testing (III) for:\n",
    "    * H_0: no dispersion VS H_1: overdispersion\n",
    "    * It can be done by LM test\n",
    "    * The test statistics follows a Chi-square distribution with df=1"
   ]
  },
  {
   "cell_type": "code",
   "execution_count": 13,
   "metadata": {},
   "outputs": [
    {
     "name": "stdout",
     "output_type": "stream",
     "text": [
      "odTest-p-value: 0.00000\n",
      "\n",
      "\n",
      "                            OLS Regression Results                            \n",
      "==============================================================================\n",
      "Dep. Variable:                      y   R-squared:                       0.000\n",
      "Model:                            OLS   Adj. R-squared:                  0.000\n",
      "Method:                 Least Squares   F-statistic:                     23.76\n",
      "Date:                Fri, 19 Jan 2018   Prob (F-statistic):           1.09e-06\n",
      "Time:                        11:34:05   Log-Likelihood:            -1.3944e+05\n",
      "No. Observations:               67856   AIC:                         2.789e+05\n",
      "Df Residuals:                   67855   BIC:                         2.789e+05\n",
      "Df Model:                           1                                         \n",
      "Covariance Type:            nonrobust                                         \n",
      "==============================================================================\n",
      "                 coef    std err          t      P>|t|      [0.025      0.975]\n",
      "------------------------------------------------------------------------------\n",
      "x              0.4069      0.083      4.875      0.000       0.243       0.570\n",
      "==============================================================================\n",
      "Omnibus:                   189687.307   Durbin-Watson:                   2.001\n",
      "Prob(Omnibus):                  0.000   Jarque-Bera (JB):      11737976318.655\n",
      "Skew:                          36.298   Prob(JB):                         0.00\n",
      "Kurtosis:                    2039.256   Cond. No.                         1.00\n",
      "==============================================================================\n",
      "\n",
      "Warnings:\n",
      "[1] Standard Errors assume that the covariance matrix of the errors is correctly specified.\n",
      "%%%%%%%%%%%%%%%%%%%%%%\n",
      "\n",
      "LM-p-value: 0.00000\n"
     ]
    }
   ],
   "source": [
    "#odTest\n",
    "import scipy.stats as stats\n",
    "a=0.05\n",
    "LR=2*(nb_fit.llf-poi_fit.llf)\n",
    "p_LR=(1 - stats.chi2.cdf(LR,1))/2\n",
    "print (\"odTest-p-value: %.5f\" % p_LR)\n",
    "print (\"\\n\")\n",
    "\n",
    "##Cameron and Trivedi test\n",
    "z=((ins['ClaimNb']-poi_fit.fittedvalues)**2-ins['ClaimNb'])/(poi_fit.fittedvalues)\n",
    "temp=pd.DataFrame({\"y\":z, \"x\":poi_fit.fittedvalues})\n",
    "model = smf.ols('y~x-1',data=temp).fit()\n",
    "print (model.summary())\n",
    "print(\"%%%%%%%%%%%%%%%%%%%%%%\\n\")\n",
    "\n",
    "#LM test\n",
    "LM=sum((ins['ClaimNb']-poi_fit.fittedvalues)**2-poi_fit.fittedvalues)**2/(2*sum((poi_fit.fittedvalues)**2))\n",
    "p_LM=1-stats.chi2.cdf(LM,1)\n",
    "print (\"LM-p-value: %.5f\" % p_LM)"
   ]
  },
  {
   "attachments": {},
   "cell_type": "markdown",
   "metadata": {},
   "source": [
    "# Stepwise for NegBin. Reg.\n",
    "* Again, there is no package for doing stepwise selection in Python\n",
    "* We use the funtion below to do a forward selection"
   ]
  },
  {
   "cell_type": "code",
   "execution_count": 38,
   "metadata": {
    "collapsed": true
   },
   "outputs": [],
   "source": [
    "import statsmodels.formula.api as smf\n",
    "import numpy as np\n",
    "import pandas as pd\n",
    "import functools\n",
    "import re\n",
    "\n",
    "\n",
    "\n",
    "def reduce_concat(x, sep=\"\"):\n",
    "    return functools.reduce(lambda x, y: str(x) + sep + str(y), x)\n",
    "\n",
    "\n",
    "def forward_selected(data,null_formula,full_formula,response,intercept):\n",
    "    \"\"\"Linear model designed by forward selection.\n",
    "    Parameters:\n",
    "    -----------\n",
    "    data : pandas DataFrame with all possible predictors and response\n",
    "    response: string, name of response column in data\n",
    "    Returns:\n",
    "    --------\n",
    "    model: an \"optimal\" fitted statsmodels linear model\n",
    "           with an intercept\n",
    "           selected by forward selection\n",
    "           evaluated by aic\n",
    "    \"\"\"\n",
    "    print('null model:'+ null_formula)\n",
    "    print('full model:'+full_formula)\n",
    "    \n",
    "    null_temp        = re.split('~',null_formula)\n",
    "    null_predic_com  = null_temp[1].split('+')\n",
    "    null_predic      = null_predic_com[1:len(null_predic_com)]\n",
    "    full_temp        = re.split('~',full_formula)\n",
    "    full_predic_com  = full_temp[1].split('+')\n",
    "    full_predic      = full_predic_com[1:len(full_predic_com)]\n",
    "    indices          = [i for i,id in enumerate(full_predic) if id not in null_predic]\n",
    "    domain           = [full_predic[i] for i in indices]\n",
    "\n",
    "    start            = set(null_predic)\n",
    "    remaining        = set(domain)\n",
    "    selected         = null_predic\n",
    "    current_score, best_new_score = 10000000, 10000000\n",
    "    score_aic        = []\n",
    "    variable_added   = []\n",
    "    flag=0\n",
    "    #step=2\n",
    "    step=np.max(indices)+1\n",
    "    #print (step)\n",
    "    while (remaining and current_score == best_new_score and step >0):\n",
    "        scores_with_candidates = []\n",
    "        for candidate in remaining:\n",
    "            formula = \"{} ~ {}\".format(response,' + '.join(selected + [candidate]))\n",
    "            formula = formula+\"-Exposure\"\n",
    "            #print (formula)\n",
    "            if intercept ==0:\n",
    "                formula = formula + \"-1\"\n",
    "            score = smf.negativebinomial(formula, data, offset=np.log(ins['Exposure'])).fit().aic\n",
    "            scores_with_candidates.append((score, candidate))\n",
    "        scores_with_candidates.sort()\n",
    "        best_new_score, best_candidate = scores_with_candidates.pop(0)\n",
    "        if current_score > best_new_score:\n",
    "            remaining.remove(best_candidate)\n",
    "            selected.append(best_candidate)\n",
    "            score_aic.append(best_new_score)\n",
    "            variable_added.append(best_candidate)\n",
    "            current_score = best_new_score\n",
    "        step=step-1\n",
    "    formula = \"{} ~ {}\".format(response,' + '.join(selected))\n",
    "    formula = formula+\"-Exposure\"\n",
    "    #print (formula)\n",
    "    if intercept ==0:\n",
    "        formula = formula + \"-1\"\n",
    "    model =smf.negativebinomial(formula, data, offset=np.log(ins['Exposure'])).fit()\n",
    "    print('final model:'+ formula)\n",
    "    return model\n",
    "    \n",
    "    "
   ]
  },
  {
   "cell_type": "markdown",
   "metadata": {},
   "source": [
    "* Forward selection"
   ]
  },
  {
   "cell_type": "code",
   "execution_count": 39,
   "metadata": {},
   "outputs": [
    {
     "name": "stdout",
     "output_type": "stream",
     "text": [
      "null model:ClaimNb~1\n",
      "full model:ClaimNb~Exposure+VehValue+VehAge+VehBody+Gender+DrivAge\n",
      "Optimization terminated successfully.\n",
      "         Current function value: 0.256866\n",
      "         Iterations: 34\n",
      "         Function evaluations: 37\n",
      "         Gradient evaluations: 37\n",
      "Optimization terminated successfully.\n",
      "         Current function value: 0.257118\n",
      "         Iterations: 20\n",
      "         Function evaluations: 23\n",
      "         Gradient evaluations: 23\n",
      "Optimization terminated successfully.\n",
      "         Current function value: 0.256973\n",
      "         Iterations: 21\n",
      "         Function evaluations: 22\n",
      "         Gradient evaluations: 22\n",
      "Warning: Maximum number of iterations has been exceeded.\n",
      "         Current function value: 0.256478\n",
      "         Iterations: 35\n",
      "         Function evaluations: 38\n",
      "         Gradient evaluations: 38\n"
     ]
    },
    {
     "name": "stderr",
     "output_type": "stream",
     "text": [
      "C:\\Users\\imelvis\\AppData\\Local\\Continuum\\anaconda3\\lib\\site-packages\\statsmodels\\base\\model.py:496: ConvergenceWarning: Maximum Likelihood optimization failed to converge. Check mle_retvals\n",
      "  \"Check mle_retvals\", ConvergenceWarning)\n"
     ]
    },
    {
     "name": "stdout",
     "output_type": "stream",
     "text": [
      "Optimization terminated successfully.\n",
      "         Current function value: 0.256928\n",
      "         Iterations: 29\n",
      "         Function evaluations: 32\n",
      "         Gradient evaluations: 32\n",
      "Warning: Maximum number of iterations has been exceeded.\n",
      "         Current function value: 0.256200\n",
      "         Iterations: 35\n",
      "         Function evaluations: 38\n",
      "         Gradient evaluations: 38\n"
     ]
    },
    {
     "name": "stderr",
     "output_type": "stream",
     "text": [
      "C:\\Users\\imelvis\\AppData\\Local\\Continuum\\anaconda3\\lib\\site-packages\\statsmodels\\base\\model.py:496: ConvergenceWarning: Maximum Likelihood optimization failed to converge. Check mle_retvals\n",
      "  \"Check mle_retvals\", ConvergenceWarning)\n"
     ]
    },
    {
     "name": "stdout",
     "output_type": "stream",
     "text": [
      "Optimization terminated successfully.\n",
      "         Current function value: 0.256472\n",
      "         Iterations: 34\n",
      "         Function evaluations: 37\n",
      "         Gradient evaluations: 37\n",
      "Warning: Maximum number of iterations has been exceeded.\n",
      "         Current function value: 0.256344\n",
      "         Iterations: 35\n",
      "         Function evaluations: 36\n",
      "         Gradient evaluations: 36\n"
     ]
    },
    {
     "name": "stderr",
     "output_type": "stream",
     "text": [
      "C:\\Users\\imelvis\\AppData\\Local\\Continuum\\anaconda3\\lib\\site-packages\\statsmodels\\base\\model.py:496: ConvergenceWarning: Maximum Likelihood optimization failed to converge. Check mle_retvals\n",
      "  \"Check mle_retvals\", ConvergenceWarning)\n"
     ]
    },
    {
     "name": "stdout",
     "output_type": "stream",
     "text": [
      "Warning: Maximum number of iterations has been exceeded.\n",
      "         Current function value: 0.256290\n",
      "         Iterations: 35\n",
      "         Function evaluations: 38\n",
      "         Gradient evaluations: 38\n"
     ]
    },
    {
     "name": "stderr",
     "output_type": "stream",
     "text": [
      "C:\\Users\\imelvis\\AppData\\Local\\Continuum\\anaconda3\\lib\\site-packages\\statsmodels\\base\\model.py:496: ConvergenceWarning: Maximum Likelihood optimization failed to converge. Check mle_retvals\n",
      "  \"Check mle_retvals\", ConvergenceWarning)\n"
     ]
    },
    {
     "name": "stdout",
     "output_type": "stream",
     "text": [
      "Warning: Maximum number of iterations has been exceeded.\n",
      "         Current function value: 0.255988\n",
      "         Iterations: 35\n",
      "         Function evaluations: 39\n",
      "         Gradient evaluations: 39\n"
     ]
    },
    {
     "name": "stderr",
     "output_type": "stream",
     "text": [
      "C:\\Users\\imelvis\\AppData\\Local\\Continuum\\anaconda3\\lib\\site-packages\\statsmodels\\base\\model.py:496: ConvergenceWarning: Maximum Likelihood optimization failed to converge. Check mle_retvals\n",
      "  \"Check mle_retvals\", ConvergenceWarning)\n"
     ]
    },
    {
     "name": "stdout",
     "output_type": "stream",
     "text": [
      "Optimization terminated successfully.\n",
      "         Current function value: 0.256288\n",
      "         Iterations: 33\n",
      "         Function evaluations: 37\n",
      "         Gradient evaluations: 37\n",
      "Warning: Maximum number of iterations has been exceeded.\n",
      "         Current function value: 0.256250\n",
      "         Iterations: 35\n",
      "         Function evaluations: 36\n",
      "         Gradient evaluations: 36\n"
     ]
    },
    {
     "name": "stderr",
     "output_type": "stream",
     "text": [
      "C:\\Users\\imelvis\\AppData\\Local\\Continuum\\anaconda3\\lib\\site-packages\\statsmodels\\base\\model.py:496: ConvergenceWarning: Maximum Likelihood optimization failed to converge. Check mle_retvals\n",
      "  \"Check mle_retvals\", ConvergenceWarning)\n"
     ]
    },
    {
     "name": "stdout",
     "output_type": "stream",
     "text": [
      "Warning: Maximum number of iterations has been exceeded.\n",
      "         Current function value: 0.255985\n",
      "         Iterations: 35\n",
      "         Function evaluations: 38\n",
      "         Gradient evaluations: 38\n"
     ]
    },
    {
     "name": "stderr",
     "output_type": "stream",
     "text": [
      "C:\\Users\\imelvis\\AppData\\Local\\Continuum\\anaconda3\\lib\\site-packages\\statsmodels\\base\\model.py:496: ConvergenceWarning: Maximum Likelihood optimization failed to converge. Check mle_retvals\n",
      "  \"Check mle_retvals\", ConvergenceWarning)\n"
     ]
    },
    {
     "name": "stdout",
     "output_type": "stream",
     "text": [
      "Warning: Maximum number of iterations has been exceeded.\n",
      "         Current function value: 0.255975\n",
      "         Iterations: 35\n",
      "         Function evaluations: 36\n",
      "         Gradient evaluations: 36\n"
     ]
    },
    {
     "name": "stderr",
     "output_type": "stream",
     "text": [
      "C:\\Users\\imelvis\\AppData\\Local\\Continuum\\anaconda3\\lib\\site-packages\\statsmodels\\base\\model.py:496: ConvergenceWarning: Maximum Likelihood optimization failed to converge. Check mle_retvals\n",
      "  \"Check mle_retvals\", ConvergenceWarning)\n"
     ]
    },
    {
     "name": "stdout",
     "output_type": "stream",
     "text": [
      "Warning: Maximum number of iterations has been exceeded.\n",
      "         Current function value: 0.255988\n",
      "         Iterations: 35\n",
      "         Function evaluations: 39\n",
      "         Gradient evaluations: 39\n"
     ]
    },
    {
     "name": "stderr",
     "output_type": "stream",
     "text": [
      "C:\\Users\\imelvis\\AppData\\Local\\Continuum\\anaconda3\\lib\\site-packages\\statsmodels\\base\\model.py:496: ConvergenceWarning: Maximum Likelihood optimization failed to converge. Check mle_retvals\n",
      "  \"Check mle_retvals\", ConvergenceWarning)\n"
     ]
    },
    {
     "name": "stdout",
     "output_type": "stream",
     "text": [
      "final model:ClaimNb ~ DrivAge + VehAge + VehBody-Exposure\n"
     ]
    },
    {
     "data": {
      "text/html": [
       "<table class=\"simpletable\">\n",
       "<caption>NegativeBinomial Regression Results</caption>\n",
       "<tr>\n",
       "  <th>Dep. Variable:</th>      <td>ClaimNb</td>     <th>  No. Observations:  </th>  <td> 67856</td>  \n",
       "</tr>\n",
       "<tr>\n",
       "  <th>Model:</th>         <td>NegativeBinomial</td> <th>  Df Residuals:      </th>  <td> 67835</td>  \n",
       "</tr>\n",
       "<tr>\n",
       "  <th>Method:</th>               <td>MLE</td>       <th>  Df Model:          </th>  <td>    20</td>  \n",
       "</tr>\n",
       "<tr>\n",
       "  <th>Date:</th>          <td>Sun, 04 Feb 2018</td> <th>  Pseudo R-squ.:     </th> <td>0.004439</td> \n",
       "</tr>\n",
       "<tr>\n",
       "  <th>Time:</th>              <td>15:09:28</td>     <th>  Log-Likelihood:    </th> <td> -17370.</td> \n",
       "</tr>\n",
       "<tr>\n",
       "  <th>converged:</th>           <td>False</td>      <th>  LL-Null:           </th> <td> -17448.</td> \n",
       "</tr>\n",
       "<tr>\n",
       "  <th> </th>                      <td> </td>        <th>  LLR p-value:       </th> <td>7.154e-23</td>\n",
       "</tr>\n",
       "</table>\n",
       "<table class=\"simpletable\">\n",
       "<tr>\n",
       "                <td></td>                   <th>coef</th>     <th>std err</th>      <th>z</th>      <th>P>|z|</th>  <th>[0.025</th>    <th>0.975]</th>  \n",
       "</tr>\n",
       "<tr>\n",
       "  <th>Intercept</th>                     <td>   -1.1702</td> <td>    0.336</td> <td>   -3.481</td> <td> 0.000</td> <td>   -1.829</td> <td>   -0.511</td>\n",
       "</tr>\n",
       "<tr>\n",
       "  <th>DrivAge[T.older work. people]</th> <td>    0.2204</td> <td>    0.050</td> <td>    4.421</td> <td> 0.000</td> <td>    0.123</td> <td>    0.318</td>\n",
       "</tr>\n",
       "<tr>\n",
       "  <th>DrivAge[T.oldest people]</th>      <td>    0.0101</td> <td>    0.065</td> <td>    0.154</td> <td> 0.878</td> <td>   -0.118</td> <td>    0.138</td>\n",
       "</tr>\n",
       "<tr>\n",
       "  <th>DrivAge[T.working people]</th>     <td>    0.2503</td> <td>    0.050</td> <td>    5.009</td> <td> 0.000</td> <td>    0.152</td> <td>    0.348</td>\n",
       "</tr>\n",
       "<tr>\n",
       "  <th>DrivAge[T.young people]</th>       <td>    0.3089</td> <td>    0.052</td> <td>    5.979</td> <td> 0.000</td> <td>    0.208</td> <td>    0.410</td>\n",
       "</tr>\n",
       "<tr>\n",
       "  <th>DrivAge[T.youngest people]</th>    <td>    0.4815</td> <td>    0.060</td> <td>    7.963</td> <td> 0.000</td> <td>    0.363</td> <td>    0.600</td>\n",
       "</tr>\n",
       "<tr>\n",
       "  <th>VehAge[T.oldest cars]</th>         <td>   -0.0776</td> <td>    0.040</td> <td>   -1.960</td> <td> 0.050</td> <td>   -0.155</td> <td>-1.28e-05</td>\n",
       "</tr>\n",
       "<tr>\n",
       "  <th>VehAge[T.young cars]</th>          <td>    0.1259</td> <td>    0.039</td> <td>    3.240</td> <td> 0.001</td> <td>    0.050</td> <td>    0.202</td>\n",
       "</tr>\n",
       "<tr>\n",
       "  <th>VehAge[T.youngest cars]</th>       <td>    0.0824</td> <td>    0.044</td> <td>    1.872</td> <td> 0.061</td> <td>   -0.004</td> <td>    0.169</td>\n",
       "</tr>\n",
       "<tr>\n",
       "  <th>VehBody[T.Convertible]</th>        <td>   -1.5211</td> <td>    0.674</td> <td>   -2.255</td> <td> 0.024</td> <td>   -2.843</td> <td>   -0.199</td>\n",
       "</tr>\n",
       "<tr>\n",
       "  <th>VehBody[T.Coupe]</th>              <td>   -0.4950</td> <td>    0.354</td> <td>   -1.397</td> <td> 0.162</td> <td>   -1.190</td> <td>    0.200</td>\n",
       "</tr>\n",
       "<tr>\n",
       "  <th>VehBody[T.Hardtop]</th>            <td>   -0.8242</td> <td>    0.345</td> <td>   -2.388</td> <td> 0.017</td> <td>   -1.501</td> <td>   -0.148</td>\n",
       "</tr>\n",
       "<tr>\n",
       "  <th>VehBody[T.Hatchback]</th>          <td>   -0.9855</td> <td>    0.335</td> <td>   -2.941</td> <td> 0.003</td> <td>   -1.642</td> <td>   -0.329</td>\n",
       "</tr>\n",
       "<tr>\n",
       "  <th>VehBody[T.Minibus]</th>            <td>   -0.9722</td> <td>    0.367</td> <td>   -2.650</td> <td> 0.008</td> <td>   -1.691</td> <td>   -0.253</td>\n",
       "</tr>\n",
       "<tr>\n",
       "  <th>VehBody[T.Motorized caravan]</th>  <td>   -0.3485</td> <td>    0.428</td> <td>   -0.814</td> <td> 0.416</td> <td>   -1.188</td> <td>    0.491</td>\n",
       "</tr>\n",
       "<tr>\n",
       "  <th>VehBody[T.Panel van]</th>          <td>   -0.8672</td> <td>    0.356</td> <td>   -2.434</td> <td> 0.015</td> <td>   -1.565</td> <td>   -0.169</td>\n",
       "</tr>\n",
       "<tr>\n",
       "  <th>VehBody[T.Roadster]</th>           <td>   -0.5195</td> <td>    0.683</td> <td>   -0.761</td> <td> 0.447</td> <td>   -1.857</td> <td>    0.819</td>\n",
       "</tr>\n",
       "<tr>\n",
       "  <th>VehBody[T.Sedan]</th>              <td>   -0.9260</td> <td>    0.335</td> <td>   -2.766</td> <td> 0.006</td> <td>   -1.582</td> <td>   -0.270</td>\n",
       "</tr>\n",
       "<tr>\n",
       "  <th>VehBody[T.Station wagon]</th>      <td>   -0.8894</td> <td>    0.335</td> <td>   -2.654</td> <td> 0.008</td> <td>   -1.546</td> <td>   -0.233</td>\n",
       "</tr>\n",
       "<tr>\n",
       "  <th>VehBody[T.Truck]</th>              <td>   -0.9639</td> <td>    0.346</td> <td>   -2.789</td> <td> 0.005</td> <td>   -1.641</td> <td>   -0.286</td>\n",
       "</tr>\n",
       "<tr>\n",
       "  <th>VehBody[T.Utility]</th>            <td>   -1.1194</td> <td>    0.339</td> <td>   -3.299</td> <td> 0.001</td> <td>   -1.785</td> <td>   -0.454</td>\n",
       "</tr>\n",
       "<tr>\n",
       "  <th>alpha</th>                         <td>    0.4423</td> <td>    0.082</td> <td>    5.415</td> <td> 0.000</td> <td>    0.282</td> <td>    0.602</td>\n",
       "</tr>\n",
       "</table>"
      ],
      "text/plain": [
       "<class 'statsmodels.iolib.summary.Summary'>\n",
       "\"\"\"\n",
       "                     NegativeBinomial Regression Results                      \n",
       "==============================================================================\n",
       "Dep. Variable:                ClaimNb   No. Observations:                67856\n",
       "Model:               NegativeBinomial   Df Residuals:                    67835\n",
       "Method:                           MLE   Df Model:                           20\n",
       "Date:                Sun, 04 Feb 2018   Pseudo R-squ.:                0.004439\n",
       "Time:                        15:09:28   Log-Likelihood:                -17370.\n",
       "converged:                      False   LL-Null:                       -17448.\n",
       "                                        LLR p-value:                 7.154e-23\n",
       "=================================================================================================\n",
       "                                    coef    std err          z      P>|z|      [0.025      0.975]\n",
       "-------------------------------------------------------------------------------------------------\n",
       "Intercept                        -1.1702      0.336     -3.481      0.000      -1.829      -0.511\n",
       "DrivAge[T.older work. people]     0.2204      0.050      4.421      0.000       0.123       0.318\n",
       "DrivAge[T.oldest people]          0.0101      0.065      0.154      0.878      -0.118       0.138\n",
       "DrivAge[T.working people]         0.2503      0.050      5.009      0.000       0.152       0.348\n",
       "DrivAge[T.young people]           0.3089      0.052      5.979      0.000       0.208       0.410\n",
       "DrivAge[T.youngest people]        0.4815      0.060      7.963      0.000       0.363       0.600\n",
       "VehAge[T.oldest cars]            -0.0776      0.040     -1.960      0.050      -0.155   -1.28e-05\n",
       "VehAge[T.young cars]              0.1259      0.039      3.240      0.001       0.050       0.202\n",
       "VehAge[T.youngest cars]           0.0824      0.044      1.872      0.061      -0.004       0.169\n",
       "VehBody[T.Convertible]           -1.5211      0.674     -2.255      0.024      -2.843      -0.199\n",
       "VehBody[T.Coupe]                 -0.4950      0.354     -1.397      0.162      -1.190       0.200\n",
       "VehBody[T.Hardtop]               -0.8242      0.345     -2.388      0.017      -1.501      -0.148\n",
       "VehBody[T.Hatchback]             -0.9855      0.335     -2.941      0.003      -1.642      -0.329\n",
       "VehBody[T.Minibus]               -0.9722      0.367     -2.650      0.008      -1.691      -0.253\n",
       "VehBody[T.Motorized caravan]     -0.3485      0.428     -0.814      0.416      -1.188       0.491\n",
       "VehBody[T.Panel van]             -0.8672      0.356     -2.434      0.015      -1.565      -0.169\n",
       "VehBody[T.Roadster]              -0.5195      0.683     -0.761      0.447      -1.857       0.819\n",
       "VehBody[T.Sedan]                 -0.9260      0.335     -2.766      0.006      -1.582      -0.270\n",
       "VehBody[T.Station wagon]         -0.8894      0.335     -2.654      0.008      -1.546      -0.233\n",
       "VehBody[T.Truck]                 -0.9639      0.346     -2.789      0.005      -1.641      -0.286\n",
       "VehBody[T.Utility]               -1.1194      0.339     -3.299      0.001      -1.785      -0.454\n",
       "alpha                             0.4423      0.082      5.415      0.000       0.282       0.602\n",
       "=================================================================================================\n",
       "\"\"\""
      ]
     },
     "execution_count": 39,
     "metadata": {},
     "output_type": "execute_result"
    }
   ],
   "source": [
    "all_columns = \"+\".join(ins.columns[0:6])\n",
    "my_formula=\"ClaimNb~\"+all_columns\n",
    "my_formula=my_formula#+\"-Exposure\"\n",
    "forward=forward_selected(data=ins,null_formula='ClaimNb~1',full_formula=my_formula,response='ClaimNb',intercept=1)\n",
    "\n",
    "forward.summary()"
   ]
  },
  {
   "cell_type": "markdown",
   "metadata": {},
   "source": [
    "# Interaction term\n",
    "* By using Likelihood ration test\n",
    "* H_0: interaction terms are not signicicant (say M_0) VS H_1:at least one of them is significant (say M_1)\n",
    "* test statistics : 2*(log likelihood of M_1 - Log likelihood of M_0)\n",
    "* It follows Chi-square distribution with df=df(M_1)-df(M_0)"
   ]
  },
  {
   "cell_type": "markdown",
   "metadata": {},
   "source": [
    "* Unfortanately, the design matrix of the interaction model is nearly signular and Python is not able to handle this situation. So the execution of the following code will fail.\n",
    "* Notice that R is still able to handle that.\n",
    "* We will use the model suggested by stepwise as the final model here."
   ]
  },
  {
   "cell_type": "code",
   "execution_count": 40,
   "metadata": {},
   "outputs": [
    {
     "ename": "LinAlgError",
     "evalue": "Singular matrix",
     "output_type": "error",
     "traceback": [
      "\u001b[1;31m---------------------------------------------------------------------------\u001b[0m",
      "\u001b[1;31mLinAlgError\u001b[0m                               Traceback (most recent call last)",
      "\u001b[1;32m<ipython-input-40-2a86b7c9bc94>\u001b[0m in \u001b[0;36m<module>\u001b[1;34m()\u001b[0m\n\u001b[0;32m      2\u001b[0m \u001b[0mall_columns\u001b[0m \u001b[1;33m=\u001b[0m \u001b[1;34m\"+\"\u001b[0m\u001b[1;33m.\u001b[0m\u001b[0mjoin\u001b[0m\u001b[1;33m(\u001b[0m\u001b[0mins\u001b[0m\u001b[1;33m.\u001b[0m\u001b[0mcolumns\u001b[0m\u001b[1;33m[\u001b[0m\u001b[1;36m0\u001b[0m\u001b[1;33m:\u001b[0m\u001b[1;36m6\u001b[0m\u001b[1;33m]\u001b[0m\u001b[1;33m)\u001b[0m\u001b[1;33m\u001b[0m\u001b[0m\n\u001b[0;32m      3\u001b[0m \u001b[0mmy_formula\u001b[0m\u001b[1;33m=\u001b[0m\u001b[1;34m\"ClaimNb~DrivAge*VehAge+DrivAge*VehBody+VehAge*VehBody\"\u001b[0m\u001b[1;33m\u001b[0m\u001b[0m\n\u001b[1;32m----> 4\u001b[1;33m \u001b[0mforward_int_fit\u001b[0m \u001b[1;33m=\u001b[0m \u001b[0msmf\u001b[0m\u001b[1;33m.\u001b[0m\u001b[0mnegativebinomial\u001b[0m\u001b[1;33m(\u001b[0m\u001b[0mformula\u001b[0m\u001b[1;33m=\u001b[0m\u001b[0mmy_formula\u001b[0m\u001b[1;33m,\u001b[0m \u001b[0mdata\u001b[0m\u001b[1;33m=\u001b[0m\u001b[0mins\u001b[0m\u001b[1;33m,\u001b[0m \u001b[0moffset\u001b[0m\u001b[1;33m=\u001b[0m\u001b[0mnp\u001b[0m\u001b[1;33m.\u001b[0m\u001b[0mlog\u001b[0m\u001b[1;33m(\u001b[0m\u001b[0mins\u001b[0m\u001b[1;33m[\u001b[0m\u001b[1;34m'Exposure'\u001b[0m\u001b[1;33m]\u001b[0m\u001b[1;33m)\u001b[0m\u001b[1;33m)\u001b[0m\u001b[1;33m.\u001b[0m\u001b[0mfit\u001b[0m\u001b[1;33m(\u001b[0m\u001b[1;33m)\u001b[0m\u001b[1;33m\u001b[0m\u001b[0m\n\u001b[0m\u001b[0;32m      5\u001b[0m \u001b[0mforward_int_fit\u001b[0m\u001b[1;33m.\u001b[0m\u001b[0msummary\u001b[0m\u001b[1;33m(\u001b[0m\u001b[1;33m)\u001b[0m\u001b[1;33m\u001b[0m\u001b[0m\n",
      "\u001b[1;32m~\\AppData\\Local\\Continuum\\anaconda3\\lib\\site-packages\\statsmodels\\discrete\\discrete_model.py\u001b[0m in \u001b[0;36mfit\u001b[1;34m(self, start_params, method, maxiter, full_output, disp, callback, cov_type, cov_kwds, use_t, **kwargs)\u001b[0m\n\u001b[0;32m   2276\u001b[0m                 \u001b[0moffset\u001b[0m \u001b[1;33m=\u001b[0m \u001b[1;32mNone\u001b[0m\u001b[1;33m\u001b[0m\u001b[0m\n\u001b[0;32m   2277\u001b[0m             \u001b[0mmod_poi\u001b[0m \u001b[1;33m=\u001b[0m \u001b[0mPoisson\u001b[0m\u001b[1;33m(\u001b[0m\u001b[0mself\u001b[0m\u001b[1;33m.\u001b[0m\u001b[0mendog\u001b[0m\u001b[1;33m,\u001b[0m \u001b[0mself\u001b[0m\u001b[1;33m.\u001b[0m\u001b[0mexog\u001b[0m\u001b[1;33m,\u001b[0m \u001b[0moffset\u001b[0m\u001b[1;33m=\u001b[0m\u001b[0moffset\u001b[0m\u001b[1;33m)\u001b[0m\u001b[1;33m\u001b[0m\u001b[0m\n\u001b[1;32m-> 2278\u001b[1;33m             \u001b[0mstart_params\u001b[0m \u001b[1;33m=\u001b[0m \u001b[0mmod_poi\u001b[0m\u001b[1;33m.\u001b[0m\u001b[0mfit\u001b[0m\u001b[1;33m(\u001b[0m\u001b[0mdisp\u001b[0m\u001b[1;33m=\u001b[0m\u001b[1;36m0\u001b[0m\u001b[1;33m)\u001b[0m\u001b[1;33m.\u001b[0m\u001b[0mparams\u001b[0m\u001b[1;33m\u001b[0m\u001b[0m\n\u001b[0m\u001b[0;32m   2279\u001b[0m             \u001b[1;32mif\u001b[0m \u001b[0mself\u001b[0m\u001b[1;33m.\u001b[0m\u001b[0mloglike_method\u001b[0m\u001b[1;33m.\u001b[0m\u001b[0mstartswith\u001b[0m\u001b[1;33m(\u001b[0m\u001b[1;34m'nb'\u001b[0m\u001b[1;33m)\u001b[0m\u001b[1;33m:\u001b[0m\u001b[1;33m\u001b[0m\u001b[0m\n\u001b[0;32m   2280\u001b[0m                 \u001b[0mstart_params\u001b[0m \u001b[1;33m=\u001b[0m \u001b[0mnp\u001b[0m\u001b[1;33m.\u001b[0m\u001b[0mappend\u001b[0m\u001b[1;33m(\u001b[0m\u001b[0mstart_params\u001b[0m\u001b[1;33m,\u001b[0m \u001b[1;36m0.1\u001b[0m\u001b[1;33m)\u001b[0m\u001b[1;33m\u001b[0m\u001b[0m\n",
      "\u001b[1;32m~\\AppData\\Local\\Continuum\\anaconda3\\lib\\site-packages\\statsmodels\\discrete\\discrete_model.py\u001b[0m in \u001b[0;36mfit\u001b[1;34m(self, start_params, method, maxiter, full_output, disp, callback, **kwargs)\u001b[0m\n\u001b[0;32m    989\u001b[0m         cntfit = super(CountModel, self).fit(start_params=start_params,\n\u001b[0;32m    990\u001b[0m                 \u001b[0mmethod\u001b[0m\u001b[1;33m=\u001b[0m\u001b[0mmethod\u001b[0m\u001b[1;33m,\u001b[0m \u001b[0mmaxiter\u001b[0m\u001b[1;33m=\u001b[0m\u001b[0mmaxiter\u001b[0m\u001b[1;33m,\u001b[0m \u001b[0mfull_output\u001b[0m\u001b[1;33m=\u001b[0m\u001b[0mfull_output\u001b[0m\u001b[1;33m,\u001b[0m\u001b[1;33m\u001b[0m\u001b[0m\n\u001b[1;32m--> 991\u001b[1;33m                 disp=disp, callback=callback, **kwargs)\n\u001b[0m\u001b[0;32m    992\u001b[0m \u001b[1;33m\u001b[0m\u001b[0m\n\u001b[0;32m    993\u001b[0m         \u001b[1;32mif\u001b[0m \u001b[1;34m'cov_type'\u001b[0m \u001b[1;32min\u001b[0m \u001b[0mkwargs\u001b[0m\u001b[1;33m:\u001b[0m\u001b[1;33m\u001b[0m\u001b[0m\n",
      "\u001b[1;32m~\\AppData\\Local\\Continuum\\anaconda3\\lib\\site-packages\\statsmodels\\discrete\\discrete_model.py\u001b[0m in \u001b[0;36mfit\u001b[1;34m(self, start_params, method, maxiter, full_output, disp, callback, **kwargs)\u001b[0m\n\u001b[0;32m    202\u001b[0m         mlefit = super(DiscreteModel, self).fit(start_params=start_params,\n\u001b[0;32m    203\u001b[0m                 \u001b[0mmethod\u001b[0m\u001b[1;33m=\u001b[0m\u001b[0mmethod\u001b[0m\u001b[1;33m,\u001b[0m \u001b[0mmaxiter\u001b[0m\u001b[1;33m=\u001b[0m\u001b[0mmaxiter\u001b[0m\u001b[1;33m,\u001b[0m \u001b[0mfull_output\u001b[0m\u001b[1;33m=\u001b[0m\u001b[0mfull_output\u001b[0m\u001b[1;33m,\u001b[0m\u001b[1;33m\u001b[0m\u001b[0m\n\u001b[1;32m--> 204\u001b[1;33m                 disp=disp, callback=callback, **kwargs)\n\u001b[0m\u001b[0;32m    205\u001b[0m \u001b[1;33m\u001b[0m\u001b[0m\n\u001b[0;32m    206\u001b[0m         \u001b[1;32mreturn\u001b[0m \u001b[0mmlefit\u001b[0m \u001b[1;31m# up to subclasses to wrap results\u001b[0m\u001b[1;33m\u001b[0m\u001b[0m\n",
      "\u001b[1;32m~\\AppData\\Local\\Continuum\\anaconda3\\lib\\site-packages\\statsmodels\\base\\model.py\u001b[0m in \u001b[0;36mfit\u001b[1;34m(self, start_params, method, maxiter, full_output, disp, fargs, callback, retall, skip_hessian, **kwargs)\u001b[0m\n\u001b[0;32m    456\u001b[0m             \u001b[0mHinv\u001b[0m \u001b[1;33m=\u001b[0m \u001b[0mcov_params_func\u001b[0m\u001b[1;33m(\u001b[0m\u001b[0mself\u001b[0m\u001b[1;33m,\u001b[0m \u001b[0mxopt\u001b[0m\u001b[1;33m,\u001b[0m \u001b[0mretvals\u001b[0m\u001b[1;33m)\u001b[0m\u001b[1;33m\u001b[0m\u001b[0m\n\u001b[0;32m    457\u001b[0m         \u001b[1;32melif\u001b[0m \u001b[0mmethod\u001b[0m \u001b[1;33m==\u001b[0m \u001b[1;34m'newton'\u001b[0m \u001b[1;32mand\u001b[0m \u001b[0mfull_output\u001b[0m\u001b[1;33m:\u001b[0m\u001b[1;33m\u001b[0m\u001b[0m\n\u001b[1;32m--> 458\u001b[1;33m             \u001b[0mHinv\u001b[0m \u001b[1;33m=\u001b[0m \u001b[0mnp\u001b[0m\u001b[1;33m.\u001b[0m\u001b[0mlinalg\u001b[0m\u001b[1;33m.\u001b[0m\u001b[0minv\u001b[0m\u001b[1;33m(\u001b[0m\u001b[1;33m-\u001b[0m\u001b[0mretvals\u001b[0m\u001b[1;33m[\u001b[0m\u001b[1;34m'Hessian'\u001b[0m\u001b[1;33m]\u001b[0m\u001b[1;33m)\u001b[0m \u001b[1;33m/\u001b[0m \u001b[0mnobs\u001b[0m\u001b[1;33m\u001b[0m\u001b[0m\n\u001b[0m\u001b[0;32m    459\u001b[0m         \u001b[1;32melif\u001b[0m \u001b[1;32mnot\u001b[0m \u001b[0mskip_hessian\u001b[0m\u001b[1;33m:\u001b[0m\u001b[1;33m\u001b[0m\u001b[0m\n\u001b[0;32m    460\u001b[0m             \u001b[0mH\u001b[0m \u001b[1;33m=\u001b[0m \u001b[1;33m-\u001b[0m\u001b[1;36m1\u001b[0m \u001b[1;33m*\u001b[0m \u001b[0mself\u001b[0m\u001b[1;33m.\u001b[0m\u001b[0mhessian\u001b[0m\u001b[1;33m(\u001b[0m\u001b[0mxopt\u001b[0m\u001b[1;33m)\u001b[0m\u001b[1;33m\u001b[0m\u001b[0m\n",
      "\u001b[1;32m~\\AppData\\Local\\Continuum\\anaconda3\\lib\\site-packages\\numpy\\linalg\\linalg.py\u001b[0m in \u001b[0;36minv\u001b[1;34m(a)\u001b[0m\n\u001b[0;32m    511\u001b[0m     \u001b[0msignature\u001b[0m \u001b[1;33m=\u001b[0m \u001b[1;34m'D->D'\u001b[0m \u001b[1;32mif\u001b[0m \u001b[0misComplexType\u001b[0m\u001b[1;33m(\u001b[0m\u001b[0mt\u001b[0m\u001b[1;33m)\u001b[0m \u001b[1;32melse\u001b[0m \u001b[1;34m'd->d'\u001b[0m\u001b[1;33m\u001b[0m\u001b[0m\n\u001b[0;32m    512\u001b[0m     \u001b[0mextobj\u001b[0m \u001b[1;33m=\u001b[0m \u001b[0mget_linalg_error_extobj\u001b[0m\u001b[1;33m(\u001b[0m\u001b[0m_raise_linalgerror_singular\u001b[0m\u001b[1;33m)\u001b[0m\u001b[1;33m\u001b[0m\u001b[0m\n\u001b[1;32m--> 513\u001b[1;33m     \u001b[0mainv\u001b[0m \u001b[1;33m=\u001b[0m \u001b[0m_umath_linalg\u001b[0m\u001b[1;33m.\u001b[0m\u001b[0minv\u001b[0m\u001b[1;33m(\u001b[0m\u001b[0ma\u001b[0m\u001b[1;33m,\u001b[0m \u001b[0msignature\u001b[0m\u001b[1;33m=\u001b[0m\u001b[0msignature\u001b[0m\u001b[1;33m,\u001b[0m \u001b[0mextobj\u001b[0m\u001b[1;33m=\u001b[0m\u001b[0mextobj\u001b[0m\u001b[1;33m)\u001b[0m\u001b[1;33m\u001b[0m\u001b[0m\n\u001b[0m\u001b[0;32m    514\u001b[0m     \u001b[1;32mreturn\u001b[0m \u001b[0mwrap\u001b[0m\u001b[1;33m(\u001b[0m\u001b[0mainv\u001b[0m\u001b[1;33m.\u001b[0m\u001b[0mastype\u001b[0m\u001b[1;33m(\u001b[0m\u001b[0mresult_t\u001b[0m\u001b[1;33m,\u001b[0m \u001b[0mcopy\u001b[0m\u001b[1;33m=\u001b[0m\u001b[1;32mFalse\u001b[0m\u001b[1;33m)\u001b[0m\u001b[1;33m)\u001b[0m\u001b[1;33m\u001b[0m\u001b[0m\n\u001b[0;32m    515\u001b[0m \u001b[1;33m\u001b[0m\u001b[0m\n",
      "\u001b[1;32m~\\AppData\\Local\\Continuum\\anaconda3\\lib\\site-packages\\numpy\\linalg\\linalg.py\u001b[0m in \u001b[0;36m_raise_linalgerror_singular\u001b[1;34m(err, flag)\u001b[0m\n\u001b[0;32m     88\u001b[0m \u001b[1;33m\u001b[0m\u001b[0m\n\u001b[0;32m     89\u001b[0m \u001b[1;32mdef\u001b[0m \u001b[0m_raise_linalgerror_singular\u001b[0m\u001b[1;33m(\u001b[0m\u001b[0merr\u001b[0m\u001b[1;33m,\u001b[0m \u001b[0mflag\u001b[0m\u001b[1;33m)\u001b[0m\u001b[1;33m:\u001b[0m\u001b[1;33m\u001b[0m\u001b[0m\n\u001b[1;32m---> 90\u001b[1;33m     \u001b[1;32mraise\u001b[0m \u001b[0mLinAlgError\u001b[0m\u001b[1;33m(\u001b[0m\u001b[1;34m\"Singular matrix\"\u001b[0m\u001b[1;33m)\u001b[0m\u001b[1;33m\u001b[0m\u001b[0m\n\u001b[0m\u001b[0;32m     91\u001b[0m \u001b[1;33m\u001b[0m\u001b[0m\n\u001b[0;32m     92\u001b[0m \u001b[1;32mdef\u001b[0m \u001b[0m_raise_linalgerror_nonposdef\u001b[0m\u001b[1;33m(\u001b[0m\u001b[0merr\u001b[0m\u001b[1;33m,\u001b[0m \u001b[0mflag\u001b[0m\u001b[1;33m)\u001b[0m\u001b[1;33m:\u001b[0m\u001b[1;33m\u001b[0m\u001b[0m\n",
      "\u001b[1;31mLinAlgError\u001b[0m: Singular matrix"
     ]
    }
   ],
   "source": [
    "# model with interaction terms in addition to the forward model\n",
    "all_columns = \"+\".join(ins.columns[0:6])\n",
    "my_formula=\"ClaimNb~DrivAge*VehAge+DrivAge*VehBody+VehAge*VehBody\"\n",
    "forward_int_fit = smf.negativebinomial(formula=my_formula, data=ins, offset=np.log(ins['Exposure'])).fit()\n",
    "forward_int_fit.summary()"
   ]
  },
  {
   "cell_type": "code",
   "execution_count": 41,
   "metadata": {},
   "outputs": [
    {
     "ename": "NameError",
     "evalue": "name 'forward_int' is not defined",
     "output_type": "error",
     "traceback": [
      "\u001b[1;31m---------------------------------------------------------------------------\u001b[0m",
      "\u001b[1;31mNameError\u001b[0m                                 Traceback (most recent call last)",
      "\u001b[1;32m<ipython-input-41-b7d151da5bcd>\u001b[0m in \u001b[0;36m<module>\u001b[1;34m()\u001b[0m\n\u001b[1;32m----> 1\u001b[1;33m \u001b[0mLRT\u001b[0m\u001b[1;33m=\u001b[0m\u001b[1;36m2\u001b[0m\u001b[1;33m*\u001b[0m\u001b[1;33m(\u001b[0m\u001b[0mforward_int\u001b[0m\u001b[1;33m.\u001b[0m\u001b[0mllf\u001b[0m\u001b[1;33m-\u001b[0m\u001b[0mforward\u001b[0m\u001b[1;33m.\u001b[0m\u001b[0mllf\u001b[0m\u001b[1;33m)\u001b[0m\u001b[1;33m\u001b[0m\u001b[0m\n\u001b[0m\u001b[0;32m      2\u001b[0m \u001b[0mdf\u001b[0m\u001b[1;33m=\u001b[0m\u001b[0mforward_int\u001b[0m\u001b[1;33m.\u001b[0m\u001b[0mdf\u001b[0m\u001b[1;33m-\u001b[0m\u001b[0mforward\u001b[0m\u001b[1;33m.\u001b[0m\u001b[0mdf\u001b[0m\u001b[1;33m\u001b[0m\u001b[0m\n\u001b[0;32m      3\u001b[0m \u001b[0mp_LR\u001b[0m\u001b[1;33m=\u001b[0m\u001b[1;33m(\u001b[0m\u001b[1;36m1\u001b[0m \u001b[1;33m-\u001b[0m \u001b[0mstats\u001b[0m\u001b[1;33m.\u001b[0m\u001b[0mchi2\u001b[0m\u001b[1;33m.\u001b[0m\u001b[0mcdf\u001b[0m\u001b[1;33m(\u001b[0m\u001b[0mLR\u001b[0m\u001b[1;33m,\u001b[0m\u001b[1;36m1\u001b[0m\u001b[1;33m)\u001b[0m\u001b[1;33m)\u001b[0m\u001b[1;33m/\u001b[0m\u001b[1;36m2\u001b[0m\u001b[1;33m\u001b[0m\u001b[0m\n",
      "\u001b[1;31mNameError\u001b[0m: name 'forward_int' is not defined"
     ]
    }
   ],
   "source": [
    "LRT=2*(forward_int.llf-forward.llf)\n",
    "df_int=forward_int.df_model-forward.df_model\n",
    "p_LR=(1 - stats.chi2.cdf(LR,df_int))"
   ]
  },
  {
   "attachments": {},
   "cell_type": "markdown",
   "metadata": {},
   "source": [
    "* Exp(beta), with 95%CI"
   ]
  },
  {
   "cell_type": "code",
   "execution_count": 42,
   "metadata": {},
   "outputs": [
    {
     "data": {
      "text/html": [
       "<div>\n",
       "<style>\n",
       "    .dataframe thead tr:only-child th {\n",
       "        text-align: right;\n",
       "    }\n",
       "\n",
       "    .dataframe thead th {\n",
       "        text-align: left;\n",
       "    }\n",
       "\n",
       "    .dataframe tbody tr th {\n",
       "        vertical-align: top;\n",
       "    }\n",
       "</style>\n",
       "<table border=\"1\" class=\"dataframe\">\n",
       "  <thead>\n",
       "    <tr style=\"text-align: right;\">\n",
       "      <th></th>\n",
       "      <th>0</th>\n",
       "      <th>1</th>\n",
       "    </tr>\n",
       "  </thead>\n",
       "  <tbody>\n",
       "    <tr>\n",
       "      <th>Intercept</th>\n",
       "      <td>0.160577</td>\n",
       "      <td>0.599658</td>\n",
       "    </tr>\n",
       "    <tr>\n",
       "      <th>DrivAge[T.older work. people]</th>\n",
       "      <td>1.130567</td>\n",
       "      <td>1.374615</td>\n",
       "    </tr>\n",
       "    <tr>\n",
       "      <th>DrivAge[T.oldest people]</th>\n",
       "      <td>0.888445</td>\n",
       "      <td>1.148426</td>\n",
       "    </tr>\n",
       "    <tr>\n",
       "      <th>DrivAge[T.working people]</th>\n",
       "      <td>1.164566</td>\n",
       "      <td>1.416555</td>\n",
       "    </tr>\n",
       "    <tr>\n",
       "      <th>DrivAge[T.young people]</th>\n",
       "      <td>1.230790</td>\n",
       "      <td>1.507115</td>\n",
       "    </tr>\n",
       "    <tr>\n",
       "      <th>DrivAge[T.youngest people]</th>\n",
       "      <td>1.437569</td>\n",
       "      <td>1.822043</td>\n",
       "    </tr>\n",
       "    <tr>\n",
       "      <th>VehAge[T.oldest cars]</th>\n",
       "      <td>0.856242</td>\n",
       "      <td>0.999987</td>\n",
       "    </tr>\n",
       "    <tr>\n",
       "      <th>VehAge[T.young cars]</th>\n",
       "      <td>1.051003</td>\n",
       "      <td>1.223993</td>\n",
       "    </tr>\n",
       "    <tr>\n",
       "      <th>VehAge[T.youngest cars]</th>\n",
       "      <td>0.996136</td>\n",
       "      <td>1.183844</td>\n",
       "    </tr>\n",
       "    <tr>\n",
       "      <th>VehBody[T.Convertible]</th>\n",
       "      <td>0.058253</td>\n",
       "      <td>0.819375</td>\n",
       "    </tr>\n",
       "    <tr>\n",
       "      <th>VehBody[T.Coupe]</th>\n",
       "      <td>0.304357</td>\n",
       "      <td>1.220845</td>\n",
       "    </tr>\n",
       "    <tr>\n",
       "      <th>VehBody[T.Hardtop]</th>\n",
       "      <td>0.222984</td>\n",
       "      <td>0.862718</td>\n",
       "    </tr>\n",
       "    <tr>\n",
       "      <th>VehBody[T.Hatchback]</th>\n",
       "      <td>0.193549</td>\n",
       "      <td>0.719871</td>\n",
       "    </tr>\n",
       "    <tr>\n",
       "      <th>VehBody[T.Minibus]</th>\n",
       "      <td>0.184264</td>\n",
       "      <td>0.776452</td>\n",
       "    </tr>\n",
       "    <tr>\n",
       "      <th>VehBody[T.Motorized caravan]</th>\n",
       "      <td>0.304964</td>\n",
       "      <td>1.633268</td>\n",
       "    </tr>\n",
       "    <tr>\n",
       "      <th>VehBody[T.Panel van]</th>\n",
       "      <td>0.209009</td>\n",
       "      <td>0.844504</td>\n",
       "    </tr>\n",
       "    <tr>\n",
       "      <th>VehBody[T.Roadster]</th>\n",
       "      <td>0.156070</td>\n",
       "      <td>2.267107</td>\n",
       "    </tr>\n",
       "    <tr>\n",
       "      <th>VehBody[T.Sedan]</th>\n",
       "      <td>0.205497</td>\n",
       "      <td>0.763581</td>\n",
       "    </tr>\n",
       "    <tr>\n",
       "      <th>VehBody[T.Station wagon]</th>\n",
       "      <td>0.213039</td>\n",
       "      <td>0.792462</td>\n",
       "    </tr>\n",
       "    <tr>\n",
       "      <th>VehBody[T.Truck]</th>\n",
       "      <td>0.193729</td>\n",
       "      <td>0.750897</td>\n",
       "    </tr>\n",
       "    <tr>\n",
       "      <th>VehBody[T.Utility]</th>\n",
       "      <td>0.167878</td>\n",
       "      <td>0.634872</td>\n",
       "    </tr>\n",
       "    <tr>\n",
       "      <th>alpha</th>\n",
       "      <td>1.326027</td>\n",
       "      <td>1.826457</td>\n",
       "    </tr>\n",
       "  </tbody>\n",
       "</table>\n",
       "</div>"
      ],
      "text/plain": [
       "                                      0         1\n",
       "Intercept                      0.160577  0.599658\n",
       "DrivAge[T.older work. people]  1.130567  1.374615\n",
       "DrivAge[T.oldest people]       0.888445  1.148426\n",
       "DrivAge[T.working people]      1.164566  1.416555\n",
       "DrivAge[T.young people]        1.230790  1.507115\n",
       "DrivAge[T.youngest people]     1.437569  1.822043\n",
       "VehAge[T.oldest cars]          0.856242  0.999987\n",
       "VehAge[T.young cars]           1.051003  1.223993\n",
       "VehAge[T.youngest cars]        0.996136  1.183844\n",
       "VehBody[T.Convertible]         0.058253  0.819375\n",
       "VehBody[T.Coupe]               0.304357  1.220845\n",
       "VehBody[T.Hardtop]             0.222984  0.862718\n",
       "VehBody[T.Hatchback]           0.193549  0.719871\n",
       "VehBody[T.Minibus]             0.184264  0.776452\n",
       "VehBody[T.Motorized caravan]   0.304964  1.633268\n",
       "VehBody[T.Panel van]           0.209009  0.844504\n",
       "VehBody[T.Roadster]            0.156070  2.267107\n",
       "VehBody[T.Sedan]               0.205497  0.763581\n",
       "VehBody[T.Station wagon]       0.213039  0.792462\n",
       "VehBody[T.Truck]               0.193729  0.750897\n",
       "VehBody[T.Utility]             0.167878  0.634872\n",
       "alpha                          1.326027  1.826457"
      ]
     },
     "execution_count": 42,
     "metadata": {},
     "output_type": "execute_result"
    }
   ],
   "source": [
    "np.exp(forward.conf_int(alpha=0.05))"
   ]
  },
  {
   "attachments": {},
   "cell_type": "markdown",
   "metadata": {
    "collapsed": true
   },
   "source": [
    "# Business Implications\n",
    "* The final model contains 3 categorical predictors:\n",
    "    * VehAge: with base group - old cars\n",
    "    * VehBody: with base group - Bus\n",
    "    * DrivAge: with base group – old people\n",
    "* Exp(beta) explains the ratio of claims (relative to the base group and assuming all else equal) on average\n",
    "    * $>1$ means the corresponding group of policyholders has a higher chance of have a claim\n",
    "* At 95% confidence,\n",
    "    * VehAge: young car is expected to have more claims than old car\n",
    "    * VehBody: Almost all the CIs of VehBody are less than 1, so it indicates that Bus seems to have more accidents on average\n",
    "    * DrivAge: older work. people / working people / young people / youngest people – we expect these group of people having more claims than the old people group\n",
    "* Thus, the managers of the insurance company should pay attention on those risky applicants/policyholders and charge them a higher premium or management fee"
   ]
  },
  {
   "cell_type": "code",
   "execution_count": null,
   "metadata": {
    "collapsed": true
   },
   "outputs": [],
   "source": []
  }
 ],
 "metadata": {
  "kernelspec": {
   "display_name": "Python 3",
   "language": "python",
   "name": "python3"
  },
  "language_info": {
   "codemirror_mode": {
    "name": "ipython",
    "version": 3
   },
   "file_extension": ".py",
   "mimetype": "text/x-python",
   "name": "python",
   "nbconvert_exporter": "python",
   "pygments_lexer": "ipython3",
   "version": "3.6.3"
  }
 },
 "nbformat": 4,
 "nbformat_minor": 2
}
