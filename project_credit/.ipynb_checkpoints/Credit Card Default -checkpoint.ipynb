{
 "cells": [
  {
   "cell_type": "code",
   "execution_count": 22,
   "metadata": {},
   "outputs": [],
   "source": [
    "import pandas as pd \n",
    "import numpy as np\n",
    "import matplotlib.pyplot as plt\n",
    "import seaborn as sns \n",
    "%matplotlib inline"
   ]
  },
  {
   "cell_type": "markdown",
   "metadata": {},
   "source": [
    "# The Credit Card Default "
   ]
  },
  {
   "cell_type": "markdown",
   "metadata": {},
   "source": [
    "**Background** \n",
    "\n",
    "This dataset contains information on default payments, demographic factors, credit data, history of payment, and bill statements of credit card clients in Taiwan from April 2005 to September 2005. The loan officer can deny the loan request from potentially bad clients, and offer the loan to potentially good clients.\n",
    "\n",
    "**Goal**\n",
    "\n",
    "predict whether credit card clients will have default payment or not\n"
   ]
  },
  {
   "cell_type": "markdown",
   "metadata": {},
   "source": [
    "## Dateset"
   ]
  },
  {
   "cell_type": "code",
   "execution_count": 4,
   "metadata": {
    "scrolled": true
   },
   "outputs": [
    {
     "data": {
      "text/html": [
       "<div>\n",
       "<style scoped>\n",
       "    .dataframe tbody tr th:only-of-type {\n",
       "        vertical-align: middle;\n",
       "    }\n",
       "\n",
       "    .dataframe tbody tr th {\n",
       "        vertical-align: top;\n",
       "    }\n",
       "\n",
       "    .dataframe thead th {\n",
       "        text-align: right;\n",
       "    }\n",
       "</style>\n",
       "<table border=\"1\" class=\"dataframe\">\n",
       "  <thead>\n",
       "    <tr style=\"text-align: right;\">\n",
       "      <th></th>\n",
       "      <th>LIMIT_BA</th>\n",
       "      <th>SEX</th>\n",
       "      <th>EDUCATION</th>\n",
       "      <th>MARRIAGE</th>\n",
       "      <th>AGE</th>\n",
       "      <th>PAY_1</th>\n",
       "      <th>PAY_2</th>\n",
       "      <th>PAY_3</th>\n",
       "      <th>PAY_4</th>\n",
       "      <th>PAY_5</th>\n",
       "      <th>...</th>\n",
       "      <th>BILL_AMT4</th>\n",
       "      <th>BILL_AMT5</th>\n",
       "      <th>BILL_AMT6</th>\n",
       "      <th>PAY_AMT1</th>\n",
       "      <th>PAY_AMT2</th>\n",
       "      <th>PAY_AMT3</th>\n",
       "      <th>PAY_AMT4</th>\n",
       "      <th>PAY_AMT5</th>\n",
       "      <th>PAY_AMT6</th>\n",
       "      <th>default</th>\n",
       "    </tr>\n",
       "  </thead>\n",
       "  <tbody>\n",
       "    <tr>\n",
       "      <th>0</th>\n",
       "      <td>20000</td>\n",
       "      <td>2</td>\n",
       "      <td>Uni</td>\n",
       "      <td>1</td>\n",
       "      <td>24</td>\n",
       "      <td>payment_delay</td>\n",
       "      <td>payment_delay</td>\n",
       "      <td>paid_in_full</td>\n",
       "      <td>paid_in_full</td>\n",
       "      <td>no_consumption</td>\n",
       "      <td>...</td>\n",
       "      <td>0</td>\n",
       "      <td>0</td>\n",
       "      <td>0</td>\n",
       "      <td>0</td>\n",
       "      <td>689</td>\n",
       "      <td>0</td>\n",
       "      <td>0</td>\n",
       "      <td>0</td>\n",
       "      <td>0</td>\n",
       "      <td>1</td>\n",
       "    </tr>\n",
       "    <tr>\n",
       "      <th>1</th>\n",
       "      <td>120000</td>\n",
       "      <td>2</td>\n",
       "      <td>Uni</td>\n",
       "      <td>2</td>\n",
       "      <td>26</td>\n",
       "      <td>paid_in_full</td>\n",
       "      <td>payment_delay</td>\n",
       "      <td>revolving_credit</td>\n",
       "      <td>revolving_credit</td>\n",
       "      <td>revolving_credit</td>\n",
       "      <td>...</td>\n",
       "      <td>3272</td>\n",
       "      <td>3455</td>\n",
       "      <td>3261</td>\n",
       "      <td>0</td>\n",
       "      <td>1000</td>\n",
       "      <td>1000</td>\n",
       "      <td>1000</td>\n",
       "      <td>0</td>\n",
       "      <td>2000</td>\n",
       "      <td>1</td>\n",
       "    </tr>\n",
       "    <tr>\n",
       "      <th>2</th>\n",
       "      <td>90000</td>\n",
       "      <td>2</td>\n",
       "      <td>Uni</td>\n",
       "      <td>2</td>\n",
       "      <td>34</td>\n",
       "      <td>revolving_credit</td>\n",
       "      <td>revolving_credit</td>\n",
       "      <td>revolving_credit</td>\n",
       "      <td>revolving_credit</td>\n",
       "      <td>revolving_credit</td>\n",
       "      <td>...</td>\n",
       "      <td>14331</td>\n",
       "      <td>14948</td>\n",
       "      <td>15549</td>\n",
       "      <td>1518</td>\n",
       "      <td>1500</td>\n",
       "      <td>1000</td>\n",
       "      <td>1000</td>\n",
       "      <td>1000</td>\n",
       "      <td>5000</td>\n",
       "      <td>0</td>\n",
       "    </tr>\n",
       "    <tr>\n",
       "      <th>3</th>\n",
       "      <td>50000</td>\n",
       "      <td>2</td>\n",
       "      <td>Uni</td>\n",
       "      <td>1</td>\n",
       "      <td>37</td>\n",
       "      <td>revolving_credit</td>\n",
       "      <td>revolving_credit</td>\n",
       "      <td>revolving_credit</td>\n",
       "      <td>revolving_credit</td>\n",
       "      <td>revolving_credit</td>\n",
       "      <td>...</td>\n",
       "      <td>28314</td>\n",
       "      <td>28959</td>\n",
       "      <td>29547</td>\n",
       "      <td>2000</td>\n",
       "      <td>2019</td>\n",
       "      <td>1200</td>\n",
       "      <td>1100</td>\n",
       "      <td>1069</td>\n",
       "      <td>1000</td>\n",
       "      <td>0</td>\n",
       "    </tr>\n",
       "    <tr>\n",
       "      <th>4</th>\n",
       "      <td>50000</td>\n",
       "      <td>1</td>\n",
       "      <td>Uni</td>\n",
       "      <td>1</td>\n",
       "      <td>57</td>\n",
       "      <td>paid_in_full</td>\n",
       "      <td>revolving_credit</td>\n",
       "      <td>paid_in_full</td>\n",
       "      <td>revolving_credit</td>\n",
       "      <td>revolving_credit</td>\n",
       "      <td>...</td>\n",
       "      <td>20940</td>\n",
       "      <td>19146</td>\n",
       "      <td>19131</td>\n",
       "      <td>2000</td>\n",
       "      <td>36681</td>\n",
       "      <td>10000</td>\n",
       "      <td>9000</td>\n",
       "      <td>689</td>\n",
       "      <td>679</td>\n",
       "      <td>0</td>\n",
       "    </tr>\n",
       "  </tbody>\n",
       "</table>\n",
       "<p>5 rows × 24 columns</p>\n",
       "</div>"
      ],
      "text/plain": [
       "   LIMIT_BA  SEX EDUCATION  MARRIAGE  AGE             PAY_1             PAY_2  \\\n",
       "0     20000    2       Uni         1   24     payment_delay     payment_delay   \n",
       "1    120000    2       Uni         2   26      paid_in_full     payment_delay   \n",
       "2     90000    2       Uni         2   34  revolving_credit  revolving_credit   \n",
       "3     50000    2       Uni         1   37  revolving_credit  revolving_credit   \n",
       "4     50000    1       Uni         1   57      paid_in_full  revolving_credit   \n",
       "\n",
       "              PAY_3             PAY_4             PAY_5  ... BILL_AMT4  \\\n",
       "0      paid_in_full      paid_in_full    no_consumption  ...         0   \n",
       "1  revolving_credit  revolving_credit  revolving_credit  ...      3272   \n",
       "2  revolving_credit  revolving_credit  revolving_credit  ...     14331   \n",
       "3  revolving_credit  revolving_credit  revolving_credit  ...     28314   \n",
       "4      paid_in_full  revolving_credit  revolving_credit  ...     20940   \n",
       "\n",
       "   BILL_AMT5  BILL_AMT6  PAY_AMT1  PAY_AMT2  PAY_AMT3  PAY_AMT4  PAY_AMT5  \\\n",
       "0          0          0         0       689         0         0         0   \n",
       "1       3455       3261         0      1000      1000      1000         0   \n",
       "2      14948      15549      1518      1500      1000      1000      1000   \n",
       "3      28959      29547      2000      2019      1200      1100      1069   \n",
       "4      19146      19131      2000     36681     10000      9000       689   \n",
       "\n",
       "   PAY_AMT6  default  \n",
       "0         0        1  \n",
       "1      2000        1  \n",
       "2      5000        0  \n",
       "3      1000        0  \n",
       "4       679        0  \n",
       "\n",
       "[5 rows x 24 columns]"
      ]
     },
     "execution_count": 4,
     "metadata": {},
     "output_type": "execute_result"
    }
   ],
   "source": [
    "# dataset \n",
    "dat = pd.read_csv(\"loan_data_clear.csv\")\n",
    "dat.head()"
   ]
  },
  {
   "cell_type": "code",
   "execution_count": 9,
   "metadata": {},
   "outputs": [
    {
     "data": {
      "text/plain": [
       "(30000, 24)"
      ]
     },
     "execution_count": 9,
     "metadata": {},
     "output_type": "execute_result"
    }
   ],
   "source": [
    "dat.shape"
   ]
  },
  {
   "cell_type": "code",
   "execution_count": 7,
   "metadata": {
    "scrolled": true
   },
   "outputs": [
    {
     "data": {
      "text/html": [
       "<div>\n",
       "<style scoped>\n",
       "    .dataframe tbody tr th:only-of-type {\n",
       "        vertical-align: middle;\n",
       "    }\n",
       "\n",
       "    .dataframe tbody tr th {\n",
       "        vertical-align: top;\n",
       "    }\n",
       "\n",
       "    .dataframe thead th {\n",
       "        text-align: right;\n",
       "    }\n",
       "</style>\n",
       "<table border=\"1\" class=\"dataframe\">\n",
       "  <thead>\n",
       "    <tr style=\"text-align: right;\">\n",
       "      <th></th>\n",
       "      <th>LIMIT_BA</th>\n",
       "      <th>SEX</th>\n",
       "      <th>MARRIAGE</th>\n",
       "      <th>AGE</th>\n",
       "      <th>BILL_AMT1</th>\n",
       "      <th>BILL_AMT2</th>\n",
       "      <th>BILL_AMT3</th>\n",
       "      <th>BILL_AMT4</th>\n",
       "      <th>BILL_AMT5</th>\n",
       "      <th>BILL_AMT6</th>\n",
       "      <th>PAY_AMT1</th>\n",
       "      <th>PAY_AMT2</th>\n",
       "      <th>PAY_AMT3</th>\n",
       "      <th>PAY_AMT4</th>\n",
       "      <th>PAY_AMT5</th>\n",
       "      <th>PAY_AMT6</th>\n",
       "      <th>default</th>\n",
       "    </tr>\n",
       "  </thead>\n",
       "  <tbody>\n",
       "    <tr>\n",
       "      <th>count</th>\n",
       "      <td>30000.000000</td>\n",
       "      <td>30000.000000</td>\n",
       "      <td>30000.000000</td>\n",
       "      <td>30000.000000</td>\n",
       "      <td>30000.000000</td>\n",
       "      <td>30000.000000</td>\n",
       "      <td>3.000000e+04</td>\n",
       "      <td>30000.000000</td>\n",
       "      <td>30000.000000</td>\n",
       "      <td>30000.000000</td>\n",
       "      <td>30000.000000</td>\n",
       "      <td>3.000000e+04</td>\n",
       "      <td>30000.00000</td>\n",
       "      <td>30000.000000</td>\n",
       "      <td>30000.000000</td>\n",
       "      <td>30000.000000</td>\n",
       "      <td>30000.000000</td>\n",
       "    </tr>\n",
       "    <tr>\n",
       "      <th>mean</th>\n",
       "      <td>167484.322667</td>\n",
       "      <td>1.603733</td>\n",
       "      <td>1.551867</td>\n",
       "      <td>35.485500</td>\n",
       "      <td>51223.330900</td>\n",
       "      <td>49179.075167</td>\n",
       "      <td>4.701315e+04</td>\n",
       "      <td>43262.948967</td>\n",
       "      <td>40311.400967</td>\n",
       "      <td>38871.760400</td>\n",
       "      <td>5663.580500</td>\n",
       "      <td>5.921163e+03</td>\n",
       "      <td>5225.68150</td>\n",
       "      <td>4826.076867</td>\n",
       "      <td>4799.387633</td>\n",
       "      <td>5215.502567</td>\n",
       "      <td>0.221200</td>\n",
       "    </tr>\n",
       "    <tr>\n",
       "      <th>std</th>\n",
       "      <td>129747.661567</td>\n",
       "      <td>0.489129</td>\n",
       "      <td>0.521970</td>\n",
       "      <td>9.217904</td>\n",
       "      <td>73635.860576</td>\n",
       "      <td>71173.768783</td>\n",
       "      <td>6.934939e+04</td>\n",
       "      <td>64332.856134</td>\n",
       "      <td>60797.155770</td>\n",
       "      <td>59554.107537</td>\n",
       "      <td>16563.280354</td>\n",
       "      <td>2.304087e+04</td>\n",
       "      <td>17606.96147</td>\n",
       "      <td>15666.159744</td>\n",
       "      <td>15278.305679</td>\n",
       "      <td>17777.465775</td>\n",
       "      <td>0.415062</td>\n",
       "    </tr>\n",
       "    <tr>\n",
       "      <th>min</th>\n",
       "      <td>10000.000000</td>\n",
       "      <td>1.000000</td>\n",
       "      <td>0.000000</td>\n",
       "      <td>21.000000</td>\n",
       "      <td>-165580.000000</td>\n",
       "      <td>-69777.000000</td>\n",
       "      <td>-1.572640e+05</td>\n",
       "      <td>-170000.000000</td>\n",
       "      <td>-81334.000000</td>\n",
       "      <td>-339603.000000</td>\n",
       "      <td>0.000000</td>\n",
       "      <td>0.000000e+00</td>\n",
       "      <td>0.00000</td>\n",
       "      <td>0.000000</td>\n",
       "      <td>0.000000</td>\n",
       "      <td>0.000000</td>\n",
       "      <td>0.000000</td>\n",
       "    </tr>\n",
       "    <tr>\n",
       "      <th>25%</th>\n",
       "      <td>50000.000000</td>\n",
       "      <td>1.000000</td>\n",
       "      <td>1.000000</td>\n",
       "      <td>28.000000</td>\n",
       "      <td>3558.750000</td>\n",
       "      <td>2984.750000</td>\n",
       "      <td>2.666250e+03</td>\n",
       "      <td>2326.750000</td>\n",
       "      <td>1763.000000</td>\n",
       "      <td>1256.000000</td>\n",
       "      <td>1000.000000</td>\n",
       "      <td>8.330000e+02</td>\n",
       "      <td>390.00000</td>\n",
       "      <td>296.000000</td>\n",
       "      <td>252.500000</td>\n",
       "      <td>117.750000</td>\n",
       "      <td>0.000000</td>\n",
       "    </tr>\n",
       "    <tr>\n",
       "      <th>50%</th>\n",
       "      <td>140000.000000</td>\n",
       "      <td>2.000000</td>\n",
       "      <td>2.000000</td>\n",
       "      <td>34.000000</td>\n",
       "      <td>22381.500000</td>\n",
       "      <td>21200.000000</td>\n",
       "      <td>2.008850e+04</td>\n",
       "      <td>19052.000000</td>\n",
       "      <td>18104.500000</td>\n",
       "      <td>17071.000000</td>\n",
       "      <td>2100.000000</td>\n",
       "      <td>2.009000e+03</td>\n",
       "      <td>1800.00000</td>\n",
       "      <td>1500.000000</td>\n",
       "      <td>1500.000000</td>\n",
       "      <td>1500.000000</td>\n",
       "      <td>0.000000</td>\n",
       "    </tr>\n",
       "    <tr>\n",
       "      <th>75%</th>\n",
       "      <td>240000.000000</td>\n",
       "      <td>2.000000</td>\n",
       "      <td>2.000000</td>\n",
       "      <td>41.000000</td>\n",
       "      <td>67091.000000</td>\n",
       "      <td>64006.250000</td>\n",
       "      <td>6.016475e+04</td>\n",
       "      <td>54506.000000</td>\n",
       "      <td>50190.500000</td>\n",
       "      <td>49198.250000</td>\n",
       "      <td>5006.000000</td>\n",
       "      <td>5.000000e+03</td>\n",
       "      <td>4505.00000</td>\n",
       "      <td>4013.250000</td>\n",
       "      <td>4031.500000</td>\n",
       "      <td>4000.000000</td>\n",
       "      <td>0.000000</td>\n",
       "    </tr>\n",
       "    <tr>\n",
       "      <th>max</th>\n",
       "      <td>1000000.000000</td>\n",
       "      <td>2.000000</td>\n",
       "      <td>3.000000</td>\n",
       "      <td>79.000000</td>\n",
       "      <td>964511.000000</td>\n",
       "      <td>983931.000000</td>\n",
       "      <td>1.664089e+06</td>\n",
       "      <td>891586.000000</td>\n",
       "      <td>927171.000000</td>\n",
       "      <td>961664.000000</td>\n",
       "      <td>873552.000000</td>\n",
       "      <td>1.684259e+06</td>\n",
       "      <td>896040.00000</td>\n",
       "      <td>621000.000000</td>\n",
       "      <td>426529.000000</td>\n",
       "      <td>528666.000000</td>\n",
       "      <td>1.000000</td>\n",
       "    </tr>\n",
       "  </tbody>\n",
       "</table>\n",
       "</div>"
      ],
      "text/plain": [
       "             LIMIT_BA           SEX      MARRIAGE           AGE  \\\n",
       "count    30000.000000  30000.000000  30000.000000  30000.000000   \n",
       "mean    167484.322667      1.603733      1.551867     35.485500   \n",
       "std     129747.661567      0.489129      0.521970      9.217904   \n",
       "min      10000.000000      1.000000      0.000000     21.000000   \n",
       "25%      50000.000000      1.000000      1.000000     28.000000   \n",
       "50%     140000.000000      2.000000      2.000000     34.000000   \n",
       "75%     240000.000000      2.000000      2.000000     41.000000   \n",
       "max    1000000.000000      2.000000      3.000000     79.000000   \n",
       "\n",
       "           BILL_AMT1      BILL_AMT2     BILL_AMT3      BILL_AMT4  \\\n",
       "count   30000.000000   30000.000000  3.000000e+04   30000.000000   \n",
       "mean    51223.330900   49179.075167  4.701315e+04   43262.948967   \n",
       "std     73635.860576   71173.768783  6.934939e+04   64332.856134   \n",
       "min   -165580.000000  -69777.000000 -1.572640e+05 -170000.000000   \n",
       "25%      3558.750000    2984.750000  2.666250e+03    2326.750000   \n",
       "50%     22381.500000   21200.000000  2.008850e+04   19052.000000   \n",
       "75%     67091.000000   64006.250000  6.016475e+04   54506.000000   \n",
       "max    964511.000000  983931.000000  1.664089e+06  891586.000000   \n",
       "\n",
       "           BILL_AMT5      BILL_AMT6       PAY_AMT1      PAY_AMT2  \\\n",
       "count   30000.000000   30000.000000   30000.000000  3.000000e+04   \n",
       "mean    40311.400967   38871.760400    5663.580500  5.921163e+03   \n",
       "std     60797.155770   59554.107537   16563.280354  2.304087e+04   \n",
       "min    -81334.000000 -339603.000000       0.000000  0.000000e+00   \n",
       "25%      1763.000000    1256.000000    1000.000000  8.330000e+02   \n",
       "50%     18104.500000   17071.000000    2100.000000  2.009000e+03   \n",
       "75%     50190.500000   49198.250000    5006.000000  5.000000e+03   \n",
       "max    927171.000000  961664.000000  873552.000000  1.684259e+06   \n",
       "\n",
       "           PAY_AMT3       PAY_AMT4       PAY_AMT5       PAY_AMT6       default  \n",
       "count   30000.00000   30000.000000   30000.000000   30000.000000  30000.000000  \n",
       "mean     5225.68150    4826.076867    4799.387633    5215.502567      0.221200  \n",
       "std     17606.96147   15666.159744   15278.305679   17777.465775      0.415062  \n",
       "min         0.00000       0.000000       0.000000       0.000000      0.000000  \n",
       "25%       390.00000     296.000000     252.500000     117.750000      0.000000  \n",
       "50%      1800.00000    1500.000000    1500.000000    1500.000000      0.000000  \n",
       "75%      4505.00000    4013.250000    4031.500000    4000.000000      0.000000  \n",
       "max    896040.00000  621000.000000  426529.000000  528666.000000      1.000000  "
      ]
     },
     "execution_count": 7,
     "metadata": {},
     "output_type": "execute_result"
    }
   ],
   "source": [
    "dat.describe()"
   ]
  },
  {
   "cell_type": "markdown",
   "metadata": {},
   "source": [
    "There are 30,000 distinct credit card clients.\n",
    "\n",
    "The average value for the amount of credit card limit is 167,484. The standard deviation is unusually large, max value being 1M.\n",
    "\n",
    "Education level is mostly graduate school and university.\n",
    "\n",
    "Most of the clients are either marrined or single (less frequent the other status).\n",
    "\n",
    "Average age is 35.5 years, with a standard deviation of 9.2.\n",
    "\n",
    "As the value 0 for default payment means 'not default' and value 1 means 'default', the mean of 0.221 means that there are 22.1% of credit card contracts that will default next month (will verify this in the next sections of this analysis)."
   ]
  },
  {
   "cell_type": "markdown",
   "metadata": {},
   "source": [
    "## Date preparation "
   ]
  },
  {
   "cell_type": "code",
   "execution_count": 8,
   "metadata": {},
   "outputs": [],
   "source": [
    "# categorical variables \n",
    "dat['SEX'] = dat['SEX'].astype(str)\n",
    "dat['MARRIAGE'] = dat['MARRIAGE'].astype(str)"
   ]
  },
  {
   "cell_type": "code",
   "execution_count": 14,
   "metadata": {},
   "outputs": [
    {
     "data": {
      "text/plain": [
       "default      0\n",
       "PAY_AMT6     0\n",
       "SEX          0\n",
       "EDUCATION    0\n",
       "MARRIAGE     0\n",
       "AGE          0\n",
       "PAY_1        0\n",
       "PAY_2        0\n",
       "PAY_3        0\n",
       "PAY_4        0\n",
       "PAY_5        0\n",
       "PAY_6        0\n",
       "BILL_AMT1    0\n",
       "BILL_AMT2    0\n",
       "BILL_AMT3    0\n",
       "BILL_AMT4    0\n",
       "BILL_AMT5    0\n",
       "BILL_AMT6    0\n",
       "PAY_AMT1     0\n",
       "PAY_AMT2     0\n",
       "PAY_AMT3     0\n",
       "PAY_AMT4     0\n",
       "PAY_AMT5     0\n",
       "LIMIT_BA     0\n",
       "dtype: int64"
      ]
     },
     "execution_count": 14,
     "metadata": {},
     "output_type": "execute_result"
    }
   ],
   "source": [
    "# missing value \n",
    "dat.isnull().sum().sort_values(ascending=False)"
   ]
  },
  {
   "cell_type": "code",
   "execution_count": 18,
   "metadata": {},
   "outputs": [
    {
     "data": {
      "text/html": [
       "<div>\n",
       "<style scoped>\n",
       "    .dataframe tbody tr th:only-of-type {\n",
       "        vertical-align: middle;\n",
       "    }\n",
       "\n",
       "    .dataframe tbody tr th {\n",
       "        vertical-align: top;\n",
       "    }\n",
       "\n",
       "    .dataframe thead th {\n",
       "        text-align: right;\n",
       "    }\n",
       "</style>\n",
       "<table border=\"1\" class=\"dataframe\">\n",
       "  <thead>\n",
       "    <tr style=\"text-align: right;\">\n",
       "      <th>col_0</th>\n",
       "      <th>count</th>\n",
       "    </tr>\n",
       "    <tr>\n",
       "      <th>default</th>\n",
       "      <th></th>\n",
       "    </tr>\n",
       "  </thead>\n",
       "  <tbody>\n",
       "    <tr>\n",
       "      <th>0</th>\n",
       "      <td>0.7788</td>\n",
       "    </tr>\n",
       "    <tr>\n",
       "      <th>1</th>\n",
       "      <td>0.2212</td>\n",
       "    </tr>\n",
       "  </tbody>\n",
       "</table>\n",
       "</div>"
      ],
      "text/plain": [
       "col_0     count\n",
       "default        \n",
       "0        0.7788\n",
       "1        0.2212"
      ]
     },
     "execution_count": 18,
     "metadata": {},
     "output_type": "execute_result"
    }
   ],
   "source": [
    "# Proportion of non-default and default case\n",
    "my_tab = pd.crosstab(index=dat['default'], columns=\"count\")\n",
    "my_tab/my_tab.sum()"
   ]
  },
  {
   "cell_type": "code",
   "execution_count": 27,
   "metadata": {
    "scrolled": true
   },
   "outputs": [
    {
     "data": {
      "text/plain": [
       "Text(0.5, 1.0, 'Default')"
      ]
     },
     "execution_count": 27,
     "metadata": {},
     "output_type": "execute_result"
    },
    {
     "data": {
      "image/png": "[encoded data removed]",
      "text/plain": [
       "<Figure size 432x288 with 1 Axes>"
      ]
     },
     "metadata": {
      "needs_background": "light"
     },
     "output_type": "display_data"
    }
   ],
   "source": [
    "# Data unbalance \n",
    "sns.countplot(x='default', data=dat)\n",
    "plt.title(\"Default\")"
   ]
  },
  {
   "cell_type": "markdown",
   "metadata": {},
   "source": [
    "We can see that they are almost 4 times as many non defaulters as there are defaulters. Hence there is a clear non uniform division in classes\n",
    "\n",
    "This is important , since we now know that using accuracy score it self will not be important. We will have to use F1 score to estimate our models, since F1 score is a better indicator of classification models when there is a bias in target classes"
   ]
  },
  {
   "cell_type": "markdown",
   "metadata": {},
   "source": [
    "## Data exploration"
   ]
  },
  {
   "cell_type": "markdown",
   "metadata": {},
   "source": [
    "https://seaborn.pydata.org/tutorial.html\n",
    "\n",
    "https://matplotlib.org/tutorials/index.html"
   ]
  },
  {
   "cell_type": "code",
   "execution_count": 56,
   "metadata": {
    "scrolled": true
   },
   "outputs": [
    {
     "data": {
      "text/plain": [
       "<matplotlib.axes._subplots.AxesSubplot at 0x1a27e90668>"
      ]
     },
     "execution_count": 56,
     "metadata": {},
     "output_type": "execute_result"
    },
    {
     "data": {
      "image/png": "[encoded data removed]",
      "text/plain": [
       "<Figure size 432x288 with 1 Axes>"
      ]
     },
     "metadata": {
      "needs_background": "light"
     },
     "output_type": "display_data"
    }
   ],
   "source": [
    "# age \n",
    "sns.countplot(x=\"SEX\", hue=\"default\",data=dat)"
   ]
  },
  {
   "cell_type": "code",
   "execution_count": 57,
   "metadata": {
    "scrolled": true
   },
   "outputs": [
    {
     "data": {
      "text/plain": [
       "<matplotlib.axes._subplots.AxesSubplot at 0x1a27e2d940>"
      ]
     },
     "execution_count": 57,
     "metadata": {},
     "output_type": "execute_result"
    },
    {
     "data": {
      "image/png": "[encoded data removed]",
      "text/plain": [
       "<Figure size 432x288 with 1 Axes>"
      ]
     },
     "metadata": {
      "needs_background": "light"
     },
     "output_type": "display_data"
    }
   ],
   "source": [
    "# education\n",
    "sns.countplot(x=\"EDUCATION\", hue=\"default\",data=dat)"
   ]
  },
  {
   "cell_type": "code",
   "execution_count": 58,
   "metadata": {
    "scrolled": true
   },
   "outputs": [
    {
     "data": {
      "text/plain": [
       "<matplotlib.axes._subplots.AxesSubplot at 0x1a27ee9748>"
      ]
     },
     "execution_count": 58,
     "metadata": {},
     "output_type": "execute_result"
    },
    {
     "data": {
      "image/png": "[encoded data removed]",
      "text/plain": [
       "<Figure size 432x288 with 1 Axes>"
      ]
     },
     "metadata": {
      "needs_background": "light"
     },
     "output_type": "display_data"
    }
   ],
   "source": [
    "# MARRIAGE\n",
    "sns.countplot(x=\"MARRIAGE\", hue=\"default\",data=dat)"
   ]
  },
  {
   "cell_type": "code",
   "execution_count": 61,
   "metadata": {},
   "outputs": [
    {
     "data": {
      "text/plain": [
       "<matplotlib.axes._subplots.AxesSubplot at 0x1a27110f98>"
      ]
     },
     "execution_count": 61,
     "metadata": {},
     "output_type": "execute_result"
    },
    {
     "data": {
      "image/png": "[encoded data removed]",
      "text/plain": [
       "<Figure size 432x288 with 1 Axes>"
      ]
     },
     "metadata": {
      "needs_background": "light"
     },
     "output_type": "display_data"
    }
   ],
   "source": [
    "# AGE\n",
    "sns.countplot(x=\"AGE\", hue=\"default\",data=dat)"
   ]
  },
  {
   "cell_type": "code",
   "execution_count": 48,
   "metadata": {},
   "outputs": [
    {
     "data": {
      "text/plain": [
       "<matplotlib.axes._subplots.AxesSubplot at 0x1a26047f60>"
      ]
     },
     "execution_count": 48,
     "metadata": {},
     "output_type": "execute_result"
    },
    {
     "data": {
      "image/png": "[encoded data removed]",
      "text/plain": [
       "<Figure size 720x432 with 1 Axes>"
      ]
     },
     "metadata": {
      "needs_background": "light"
     },
     "output_type": "display_data"
    }
   ],
   "source": [
    "# Amount of credit limit\n",
    "plt.figure(figsize=(10,6))\n",
    "plt.title('Amount of credit limit - Density Plot')\n",
    "sns.distplot(dat['LIMIT_BA'],bins=200, color='blue',kde=True)"
   ]
  },
  {
   "cell_type": "code",
   "execution_count": 37,
   "metadata": {},
   "outputs": [
    {
     "data": {
      "text/plain": [
       "50000     3365\n",
       "20000     1976\n",
       "30000     1610\n",
       "80000     1567\n",
       "200000    1528\n",
       "Name: LIMIT_BA, dtype: int64"
      ]
     },
     "execution_count": 37,
     "metadata": {},
     "output_type": "execute_result"
    }
   ],
   "source": [
    "dat[\"LIMIT_BA\"].value_counts().head(5)"
   ]
  },
  {
   "cell_type": "markdown",
   "metadata": {},
   "source": [
    "Largest group of amount of credit limit is apparently for amount of 50K."
   ]
  },
  {
   "cell_type": "code",
   "execution_count": 43,
   "metadata": {},
   "outputs": [
    {
     "data": {
      "text/plain": [
       "<matplotlib.axes._subplots.AxesSubplot at 0x1a25907470>"
      ]
     },
     "execution_count": 43,
     "metadata": {},
     "output_type": "execute_result"
    },
    {
     "data": {
      "image/png": "[encoded data removed]",
      "text/plain": [
       "<Figure size 720x432 with 2 Axes>"
      ]
     },
     "metadata": {
      "needs_background": "light"
     },
     "output_type": "display_data"
    }
   ],
   "source": [
    "# Credit limit vs. sex\n",
    "plt.figure(figsize=(10,6))\n",
    "plt.subplot(1, 2, 1)\n",
    "sns.boxplot(x=\"SEX\", y=\"LIMIT_BA\", data=dat, hue=\"SEX\",showfliers=False)\n",
    "\n",
    "plt.subplot(1, 2, 2)\n",
    "sns.boxplot(x=\"SEX\", y=\"LIMIT_BA\", data=dat, hue=\"SEX\",showfliers=True)"
   ]
  },
  {
   "cell_type": "code",
   "execution_count": 45,
   "metadata": {
    "scrolled": true
   },
   "outputs": [
    {
     "data": {
      "text/plain": [
       "<matplotlib.axes._subplots.AxesSubplot at 0x1a25b5c6d8>"
      ]
     },
     "execution_count": 45,
     "metadata": {},
     "output_type": "execute_result"
    },
    {
     "data": {
      "image/png": "[encoded data removed]",
      "text/plain": [
       "<Figure size 432x288 with 1 Axes>"
      ]
     },
     "metadata": {
      "needs_background": "light"
     },
     "output_type": "display_data"
    }
   ],
   "source": [
    "# Credit limit vs. marriage \n",
    "sns.boxplot(x=\"MARRIAGE\", y=\"LIMIT_BA\", data=dat, hue=\"MARRIAGE\",showfliers=True)"
   ]
  },
  {
   "cell_type": "code",
   "execution_count": 46,
   "metadata": {},
   "outputs": [
    {
     "data": {
      "text/plain": [
       "<matplotlib.axes._subplots.AxesSubplot at 0x1a25ce8860>"
      ]
     },
     "execution_count": 46,
     "metadata": {},
     "output_type": "execute_result"
    },
    {
     "data": {
      "image/png": "[encoded data removed]",
      "text/plain": [
       "<Figure size 432x288 with 1 Axes>"
      ]
     },
     "metadata": {
      "needs_background": "light"
     },
     "output_type": "display_data"
    }
   ],
   "source": [
    "# age \n",
    "sns.distplot(dat['AGE'])"
   ]
  },
  {
   "cell_type": "markdown",
   "metadata": {},
   "source": [
    "## Features correlation"
   ]
  },
  {
   "cell_type": "code",
   "execution_count": 79,
   "metadata": {},
   "outputs": [
    {
     "data": {
      "text/plain": [
       "Text(0.5, 1.0, 'Heatmap of Correlation Matrix')"
      ]
     },
     "execution_count": 79,
     "metadata": {},
     "output_type": "execute_result"
    },
    {
     "data": {
      "image/png": "[encoded data removed]",
      "text/plain": [
       "<Figure size 720x720 with 2 Axes>"
      ]
     },
     "metadata": {
      "needs_background": "light"
     },
     "output_type": "display_data"
    }
   ],
   "source": [
    "# Correlation Matrix\n",
    "corr = dat.corr()\n",
    "plt.figure(figsize=(10,10))\n",
    "sns.heatmap(corr,annot=True,fmt= '.2f')\n",
    "plt.title('Heatmap of Correlation Matrix')"
   ]
  },
  {
   "cell_type": "markdown",
   "metadata": {},
   "source": [
    "## Predictive models"
   ]
  },
  {
   "cell_type": "markdown",
   "metadata": {},
   "source": [
    "**Data Partition**"
   ]
  },
  {
   "cell_type": "code",
   "execution_count": 80,
   "metadata": {},
   "outputs": [],
   "source": [
    "#from sklearn.model_selection import train_test_split\n",
    "train_set=dat[0:21000]\n",
    "test_set=dat[21000:]"
   ]
  },
  {
   "cell_type": "markdown",
   "metadata": {},
   "source": [
    "**The full model**"
   ]
  },
  {
   "cell_type": "code",
   "execution_count": 81,
   "metadata": {},
   "outputs": [],
   "source": [
    "import statsmodels.formula.api as smf\n",
    "import statsmodels.api as sm"
   ]
  },
  {
   "cell_type": "code",
   "execution_count": 83,
   "metadata": {},
   "outputs": [
    {
     "name": "stdout",
     "output_type": "stream",
     "text": [
      "                 Generalized Linear Model Regression Results                  \n",
      "==============================================================================\n",
      "Dep. Variable:                default   No. Observations:                21000\n",
      "Model:                            GLM   Df Residuals:                    20960\n",
      "Model Family:                Binomial   Df Model:                           39\n",
      "Link Function:                  logit   Scale:                          1.0000\n",
      "Method:                          IRLS   Log-Likelihood:                -9449.1\n",
      "Date:                Mon, 13 May 2019   Deviance:                       18898.\n",
      "Time:                        10:03:59   Pearson chi2:                 2.34e+04\n",
      "No. Iterations:                     6   Covariance Type:             nonrobust\n",
      "=============================================================================================\n",
      "                                coef    std err          z      P>|z|      [0.025      0.975]\n",
      "---------------------------------------------------------------------------------------------\n",
      "Intercept                    -4.1850      1.054     -3.971      0.000      -6.251      -2.119\n",
      "SEX[T.2]                     -0.1232      0.038     -3.274      0.001      -0.197      -0.049\n",
      "EDUCATION[T.HS]              -0.0430      0.059     -0.731      0.465      -0.158       0.072\n",
      "EDUCATION[T.Uni]             -0.0178      0.043     -0.411      0.681      -0.103       0.067\n",
      "EDUCATION[T.others]          -1.3588      0.277     -4.913      0.000      -1.901      -0.817\n",
      "MARRIAGE[T.1]                 2.9894      1.047      2.855      0.004       0.937       5.042\n",
      "MARRIAGE[T.2]                 2.8081      1.047      2.681      0.007       0.756       4.861\n",
      "MARRIAGE[T.3]                 2.9468      1.060      2.781      0.005       0.870       5.024\n",
      "PAY_1[T.paid_in_full]         0.1314      0.121      1.082      0.279      -0.107       0.369\n",
      "PAY_1[T.payment_delay]        0.9547      0.101      9.485      0.000       0.757       1.152\n",
      "PAY_1[T.revolving_credit]    -1.0901      0.124     -8.775      0.000      -1.334      -0.847\n",
      "PAY_2[T.paid_in_full]         0.2415      0.125      1.935      0.053      -0.003       0.486\n",
      "PAY_2[T.payment_delay]        0.4424      0.130      3.394      0.001       0.187       0.698\n",
      "PAY_2[T.revolving_credit]     0.9660      0.146      6.627      0.000       0.680       1.252\n",
      "PAY_3[T.paid_in_full]        -0.1162      0.125     -0.932      0.351      -0.361       0.128\n",
      "PAY_3[T.payment_delay]        0.3221      0.147      2.192      0.028       0.034       0.610\n",
      "PAY_3[T.revolving_credit]    -0.1095      0.145     -0.756      0.450      -0.394       0.175\n",
      "PAY_4[T.paid_in_full]         0.0027      0.128      0.021      0.983      -0.247       0.253\n",
      "PAY_4[T.payment_delay]        0.2435      0.154      1.579      0.114      -0.059       0.546\n",
      "PAY_4[T.revolving_credit]     0.0385      0.143      0.268      0.788      -0.243       0.320\n",
      "PAY_5[T.paid_in_full]        -0.0738      0.124     -0.595      0.552      -0.317       0.169\n",
      "PAY_5[T.payment_delay]        0.3903      0.154      2.542      0.011       0.089       0.691\n",
      "PAY_5[T.revolving_credit]     0.0495      0.138      0.359      0.720      -0.221       0.320\n",
      "PAY_6[T.paid_in_full]        -0.1193      0.094     -1.267      0.205      -0.304       0.065\n",
      "PAY_6[T.payment_delay]        0.0519      0.118      0.441      0.659      -0.179       0.282\n",
      "PAY_6[T.revolving_credit]    -0.2979      0.103     -2.906      0.004      -0.499      -0.097\n",
      "LIMIT_BA                  -1.768e-06   2.05e-07     -8.619      0.000   -2.17e-06   -1.37e-06\n",
      "AGE                           0.0020      0.002      0.881      0.378      -0.002       0.007\n",
      "BILL_AMT1                 -2.059e-06   1.34e-06     -1.537      0.124   -4.69e-06    5.67e-07\n",
      "BILL_AMT2                  2.604e-06   1.73e-06      1.508      0.132   -7.81e-07    5.99e-06\n",
      "BILL_AMT3                  1.551e-06   1.56e-06      0.991      0.321   -1.52e-06    4.62e-06\n",
      "BILL_AMT4                 -1.096e-08    1.7e-06     -0.006      0.995   -3.35e-06    3.32e-06\n",
      "BILL_AMT5                  5.528e-07   1.87e-06      0.296      0.767   -3.11e-06    4.21e-06\n",
      "BILL_AMT6                 -2.288e-07   1.41e-06     -0.162      0.871      -3e-06    2.54e-06\n",
      "PAY_AMT1                  -1.579e-05   3.01e-06     -5.247      0.000   -2.17e-05   -9.89e-06\n",
      "PAY_AMT2                  -7.414e-06   2.32e-06     -3.202      0.001    -1.2e-05   -2.88e-06\n",
      "PAY_AMT3                  -1.697e-06   2.14e-06     -0.792      0.428    -5.9e-06     2.5e-06\n",
      "PAY_AMT4                  -3.032e-06   2.23e-06     -1.360      0.174    -7.4e-06    1.34e-06\n",
      "PAY_AMT5                  -7.548e-07   1.96e-06     -0.386      0.699   -4.59e-06    3.08e-06\n",
      "PAY_AMT6                   -2.87e-06   1.58e-06     -1.814      0.070   -5.97e-06    2.31e-07\n",
      "=============================================================================================\n"
     ]
    }
   ],
   "source": [
    "# Full model \n",
    "all_columns = \"+\".join(dat.columns[0:23])\n",
    "my_formula=\"default~\"+all_columns\n",
    "\n",
    "full_model = smf.glm(formula = my_formula, data=train_set, family=sm.families.Binomial()).fit()\n",
    "\n",
    "print(full_model.summary())"
   ]
  },
  {
   "cell_type": "markdown",
   "metadata": {},
   "source": [
    "**Forward Selection**"
   ]
  },
  {
   "cell_type": "code",
   "execution_count": 84,
   "metadata": {},
   "outputs": [],
   "source": [
    "import functools\n",
    "import re\n",
    "\n",
    "\n",
    "\n",
    "def reduce_concat(x, sep=\"\"):\n",
    "    return functools.reduce(lambda x, y: str(x) + sep + str(y), x)\n",
    "\n",
    "\n",
    "def forward_selected(data,null_formula,full_formula,response,intercept):\n",
    "    \"\"\"Linear model designed by forward selection.\n",
    "    Parameters:\n",
    "    -----------\n",
    "    data : pandas DataFrame with all possible predictors and response\n",
    "    response: string, name of response column in data\n",
    "    Returns:\n",
    "    --------\n",
    "    model: an \"optimal\" fitted statsmodels linear model\n",
    "           with an intercept\n",
    "           selected by forward selection\n",
    "           evaluated by aic\n",
    "    \"\"\"\n",
    "    print('null model:'+ null_formula)\n",
    "    print('full model:'+full_formula)\n",
    "    \n",
    "    null_temp        = re.split('~',null_formula)\n",
    "    null_predic_com  = null_temp[1].split('+')\n",
    "    null_predic      = null_predic_com[1:len(null_predic_com)]\n",
    "    full_temp        = re.split('~',full_formula)\n",
    "    full_predic_com  = full_temp[1].split('+')\n",
    "    full_predic      = full_predic_com[1:len(full_predic_com)]\n",
    "    indices          = [i for i,id in enumerate(full_predic) if id not in null_predic]\n",
    "    domain           = [full_predic[i] for i in indices]\n",
    "\n",
    "    start            = set(null_predic)\n",
    "    remaining        = set(domain)\n",
    "    selected         = null_predic\n",
    "    current_score, best_new_score = 10000000, 10000000\n",
    "    score_aic        = []\n",
    "    variable_added   = []\n",
    "    flag=0\n",
    "    #step=2\n",
    "    step=np.max(indices)+1\n",
    "    #print (step)\n",
    "    while (remaining and current_score == best_new_score and step >0):\n",
    "        scores_with_candidates = []\n",
    "        for candidate in remaining:\n",
    "            formula = \"{} ~ {}\".format(response,' + '.join(selected + [candidate]))\n",
    "            if intercept ==0:\n",
    "                formula = formula + \"-1\"\n",
    "            score = smf.glm(formula, data, family=sm.families.Binomial()).fit().aic\n",
    "            scores_with_candidates.append((score, candidate))\n",
    "        scores_with_candidates.sort()\n",
    "        best_new_score, best_candidate = scores_with_candidates.pop(0)\n",
    "        if current_score > best_new_score:\n",
    "            remaining.remove(best_candidate)\n",
    "            selected.append(best_candidate)\n",
    "            score_aic.append(best_new_score)\n",
    "            variable_added.append(best_candidate)\n",
    "            current_score = best_new_score\n",
    "        step=step-1\n",
    "    formula = \"{} ~ {}\".format(response,' + '.join(selected))\n",
    "    if intercept ==0:\n",
    "        formula = formula + \"-1\"\n",
    "    model = smf.glm(formula, data, family=sm.families.Binomial()).fit()\n",
    "    #print('final model:'+ formula)\n",
    "    return model\n",
    "    "
   ]
  },
  {
   "cell_type": "code",
   "execution_count": 85,
   "metadata": {},
   "outputs": [
    {
     "name": "stdout",
     "output_type": "stream",
     "text": [
      "null model:default~1\n",
      "full model:default~LIMIT_BA+SEX+EDUCATION+MARRIAGE+AGE+PAY_1+PAY_2+PAY_3+PAY_4+PAY_5+PAY_6+BILL_AMT1+BILL_AMT2+BILL_AMT3+BILL_AMT4+BILL_AMT5+BILL_AMT6+PAY_AMT1+PAY_AMT2+PAY_AMT3+PAY_AMT4+PAY_AMT5+PAY_AMT6\n"
     ]
    },
    {
     "data": {
      "text/html": [
       "<table class=\"simpletable\">\n",
       "<caption>Generalized Linear Model Regression Results</caption>\n",
       "<tr>\n",
       "  <th>Dep. Variable:</th>       <td>default</td>     <th>  No. Observations:  </th>  <td> 21000</td>  \n",
       "</tr>\n",
       "<tr>\n",
       "  <th>Model:</th>                 <td>GLM</td>       <th>  Df Residuals:      </th>  <td> 20966</td>  \n",
       "</tr>\n",
       "<tr>\n",
       "  <th>Model Family:</th>       <td>Binomial</td>     <th>  Df Model:          </th>  <td>    33</td>  \n",
       "</tr>\n",
       "<tr>\n",
       "  <th>Link Function:</th>        <td>logit</td>      <th>  Scale:             </th> <td>  1.0000</td> \n",
       "</tr>\n",
       "<tr>\n",
       "  <th>Method:</th>               <td>IRLS</td>       <th>  Log-Likelihood:    </th> <td> -9488.8</td> \n",
       "</tr>\n",
       "<tr>\n",
       "  <th>Date:</th>           <td>Mon, 13 May 2019</td> <th>  Deviance:          </th> <td>  18978.</td> \n",
       "</tr>\n",
       "<tr>\n",
       "  <th>Time:</th>               <td>10:09:53</td>     <th>  Pearson chi2:      </th> <td>2.68e+04</td> \n",
       "</tr>\n",
       "<tr>\n",
       "  <th>No. Iterations:</th>         <td>6</td>        <th>  Covariance Type:   </th> <td>nonrobust</td>\n",
       "</tr>\n",
       "</table>\n",
       "<table class=\"simpletable\">\n",
       "<tr>\n",
       "              <td></td>                 <th>coef</th>     <th>std err</th>      <th>z</th>      <th>P>|z|</th>  <th>[0.025</th>    <th>0.975]</th>  \n",
       "</tr>\n",
       "<tr>\n",
       "  <th>Intercept</th>                 <td>   -4.5312</td> <td>    1.052</td> <td>   -4.309</td> <td> 0.000</td> <td>   -6.592</td> <td>   -2.470</td>\n",
       "</tr>\n",
       "<tr>\n",
       "  <th>PAY_1[T.paid_in_full]</th>     <td>    0.1232</td> <td>    0.120</td> <td>    1.023</td> <td> 0.306</td> <td>   -0.113</td> <td>    0.359</td>\n",
       "</tr>\n",
       "<tr>\n",
       "  <th>PAY_1[T.payment_delay]</th>    <td>    0.9910</td> <td>    0.100</td> <td>    9.907</td> <td> 0.000</td> <td>    0.795</td> <td>    1.187</td>\n",
       "</tr>\n",
       "<tr>\n",
       "  <th>PAY_1[T.revolving_credit]</th> <td>   -1.0551</td> <td>    0.123</td> <td>   -8.547</td> <td> 0.000</td> <td>   -1.297</td> <td>   -0.813</td>\n",
       "</tr>\n",
       "<tr>\n",
       "  <th>PAY_3[T.paid_in_full]</th>     <td>   -0.1241</td> <td>    0.124</td> <td>   -0.998</td> <td> 0.318</td> <td>   -0.368</td> <td>    0.120</td>\n",
       "</tr>\n",
       "<tr>\n",
       "  <th>PAY_3[T.payment_delay]</th>    <td>    0.3531</td> <td>    0.147</td> <td>    2.408</td> <td> 0.016</td> <td>    0.066</td> <td>    0.641</td>\n",
       "</tr>\n",
       "<tr>\n",
       "  <th>PAY_3[T.revolving_credit]</th> <td>   -0.0828</td> <td>    0.145</td> <td>   -0.572</td> <td> 0.567</td> <td>   -0.366</td> <td>    0.201</td>\n",
       "</tr>\n",
       "<tr>\n",
       "  <th>PAY_5[T.paid_in_full]</th>     <td>   -0.0751</td> <td>    0.123</td> <td>   -0.609</td> <td> 0.542</td> <td>   -0.317</td> <td>    0.167</td>\n",
       "</tr>\n",
       "<tr>\n",
       "  <th>PAY_5[T.payment_delay]</th>    <td>    0.4059</td> <td>    0.152</td> <td>    2.663</td> <td> 0.008</td> <td>    0.107</td> <td>    0.705</td>\n",
       "</tr>\n",
       "<tr>\n",
       "  <th>PAY_5[T.revolving_credit]</th> <td>    0.0649</td> <td>    0.137</td> <td>    0.475</td> <td> 0.635</td> <td>   -0.203</td> <td>    0.333</td>\n",
       "</tr>\n",
       "<tr>\n",
       "  <th>PAY_2[T.paid_in_full]</th>     <td>    0.3018</td> <td>    0.124</td> <td>    2.431</td> <td> 0.015</td> <td>    0.059</td> <td>    0.545</td>\n",
       "</tr>\n",
       "<tr>\n",
       "  <th>PAY_2[T.payment_delay]</th>    <td>    0.5657</td> <td>    0.129</td> <td>    4.374</td> <td> 0.000</td> <td>    0.312</td> <td>    0.819</td>\n",
       "</tr>\n",
       "<tr>\n",
       "  <th>PAY_2[T.revolving_credit]</th> <td>    1.0763</td> <td>    0.145</td> <td>    7.426</td> <td> 0.000</td> <td>    0.792</td> <td>    1.360</td>\n",
       "</tr>\n",
       "<tr>\n",
       "  <th>EDUCATION[T.HS]</th>           <td>    0.0713</td> <td>    0.056</td> <td>    1.267</td> <td> 0.205</td> <td>   -0.039</td> <td>    0.182</td>\n",
       "</tr>\n",
       "<tr>\n",
       "  <th>EDUCATION[T.Uni]</th>          <td>    0.0532</td> <td>    0.043</td> <td>    1.251</td> <td> 0.211</td> <td>   -0.030</td> <td>    0.136</td>\n",
       "</tr>\n",
       "<tr>\n",
       "  <th>EDUCATION[T.others]</th>       <td>   -1.2639</td> <td>    0.275</td> <td>   -4.592</td> <td> 0.000</td> <td>   -1.803</td> <td>   -0.724</td>\n",
       "</tr>\n",
       "<tr>\n",
       "  <th>MARRIAGE[T.1]</th>             <td>    2.9842</td> <td>    1.048</td> <td>    2.846</td> <td> 0.004</td> <td>    0.929</td> <td>    5.039</td>\n",
       "</tr>\n",
       "<tr>\n",
       "  <th>MARRIAGE[T.2]</th>             <td>    2.8301</td> <td>    1.049</td> <td>    2.699</td> <td> 0.007</td> <td>    0.775</td> <td>    4.885</td>\n",
       "</tr>\n",
       "<tr>\n",
       "  <th>MARRIAGE[T.3]</th>             <td>    3.0159</td> <td>    1.061</td> <td>    2.843</td> <td> 0.004</td> <td>    0.937</td> <td>    5.095</td>\n",
       "</tr>\n",
       "<tr>\n",
       "  <th>PAY_6[T.paid_in_full]</th>     <td>   -0.1358</td> <td>    0.093</td> <td>   -1.463</td> <td> 0.144</td> <td>   -0.318</td> <td>    0.046</td>\n",
       "</tr>\n",
       "<tr>\n",
       "  <th>PAY_6[T.payment_delay]</th>    <td>    0.1050</td> <td>    0.116</td> <td>    0.906</td> <td> 0.365</td> <td>   -0.122</td> <td>    0.332</td>\n",
       "</tr>\n",
       "<tr>\n",
       "  <th>PAY_6[T.revolving_credit]</th> <td>   -0.2643</td> <td>    0.101</td> <td>   -2.614</td> <td> 0.009</td> <td>   -0.463</td> <td>   -0.066</td>\n",
       "</tr>\n",
       "<tr>\n",
       "  <th>SEX[T.2]</th>                  <td>   -0.1316</td> <td>    0.037</td> <td>   -3.536</td> <td> 0.000</td> <td>   -0.205</td> <td>   -0.059</td>\n",
       "</tr>\n",
       "<tr>\n",
       "  <th>PAY_4[T.paid_in_full]</th>     <td>    0.0054</td> <td>    0.127</td> <td>    0.042</td> <td> 0.966</td> <td>   -0.243</td> <td>    0.253</td>\n",
       "</tr>\n",
       "<tr>\n",
       "  <th>PAY_4[T.payment_delay]</th>    <td>    0.2717</td> <td>    0.153</td> <td>    1.771</td> <td> 0.076</td> <td>   -0.029</td> <td>    0.572</td>\n",
       "</tr>\n",
       "<tr>\n",
       "  <th>PAY_4[T.revolving_credit]</th> <td>    0.0611</td> <td>    0.143</td> <td>    0.428</td> <td> 0.668</td> <td>   -0.218</td> <td>    0.341</td>\n",
       "</tr>\n",
       "<tr>\n",
       "  <th>PAY_AMT1</th>                  <td>-1.786e-05</td> <td> 3.06e-06</td> <td>   -5.833</td> <td> 0.000</td> <td>-2.39e-05</td> <td>-1.19e-05</td>\n",
       "</tr>\n",
       "<tr>\n",
       "  <th>PAY_AMT2</th>                  <td>-8.779e-06</td> <td> 2.33e-06</td> <td>   -3.766</td> <td> 0.000</td> <td>-1.33e-05</td> <td>-4.21e-06</td>\n",
       "</tr>\n",
       "<tr>\n",
       "  <th>PAY_AMT6</th>                  <td>-4.015e-06</td> <td> 1.57e-06</td> <td>   -2.557</td> <td> 0.011</td> <td>-7.09e-06</td> <td>-9.37e-07</td>\n",
       "</tr>\n",
       "<tr>\n",
       "  <th>PAY_AMT4</th>                  <td> -4.15e-06</td> <td> 1.98e-06</td> <td>   -2.094</td> <td> 0.036</td> <td>-8.03e-06</td> <td>-2.66e-07</td>\n",
       "</tr>\n",
       "<tr>\n",
       "  <th>BILL_AMT3</th>                 <td> 1.375e-06</td> <td> 1.22e-06</td> <td>    1.130</td> <td> 0.259</td> <td>-1.01e-06</td> <td> 3.76e-06</td>\n",
       "</tr>\n",
       "<tr>\n",
       "  <th>BILL_AMT1</th>                 <td>-3.231e-06</td> <td> 1.34e-06</td> <td>   -2.415</td> <td> 0.016</td> <td>-5.85e-06</td> <td>-6.08e-07</td>\n",
       "</tr>\n",
       "<tr>\n",
       "  <th>BILL_AMT2</th>                 <td>   2.9e-06</td> <td> 1.73e-06</td> <td>    1.678</td> <td> 0.093</td> <td>-4.88e-07</td> <td> 6.29e-06</td>\n",
       "</tr>\n",
       "<tr>\n",
       "  <th>PAY_AMT3</th>                  <td>-3.031e-06</td> <td> 1.97e-06</td> <td>   -1.542</td> <td> 0.123</td> <td>-6.89e-06</td> <td> 8.23e-07</td>\n",
       "</tr>\n",
       "</table>"
      ],
      "text/plain": [
       "<class 'statsmodels.iolib.summary.Summary'>\n",
       "\"\"\"\n",
       "                 Generalized Linear Model Regression Results                  \n",
       "==============================================================================\n",
       "Dep. Variable:                default   No. Observations:                21000\n",
       "Model:                            GLM   Df Residuals:                    20966\n",
       "Model Family:                Binomial   Df Model:                           33\n",
       "Link Function:                  logit   Scale:                          1.0000\n",
       "Method:                          IRLS   Log-Likelihood:                -9488.8\n",
       "Date:                Mon, 13 May 2019   Deviance:                       18978.\n",
       "Time:                        10:09:53   Pearson chi2:                 2.68e+04\n",
       "No. Iterations:                     6   Covariance Type:             nonrobust\n",
       "=============================================================================================\n",
       "                                coef    std err          z      P>|z|      [0.025      0.975]\n",
       "---------------------------------------------------------------------------------------------\n",
       "Intercept                    -4.5312      1.052     -4.309      0.000      -6.592      -2.470\n",
       "PAY_1[T.paid_in_full]         0.1232      0.120      1.023      0.306      -0.113       0.359\n",
       "PAY_1[T.payment_delay]        0.9910      0.100      9.907      0.000       0.795       1.187\n",
       "PAY_1[T.revolving_credit]    -1.0551      0.123     -8.547      0.000      -1.297      -0.813\n",
       "PAY_3[T.paid_in_full]        -0.1241      0.124     -0.998      0.318      -0.368       0.120\n",
       "PAY_3[T.payment_delay]        0.3531      0.147      2.408      0.016       0.066       0.641\n",
       "PAY_3[T.revolving_credit]    -0.0828      0.145     -0.572      0.567      -0.366       0.201\n",
       "PAY_5[T.paid_in_full]        -0.0751      0.123     -0.609      0.542      -0.317       0.167\n",
       "PAY_5[T.payment_delay]        0.4059      0.152      2.663      0.008       0.107       0.705\n",
       "PAY_5[T.revolving_credit]     0.0649      0.137      0.475      0.635      -0.203       0.333\n",
       "PAY_2[T.paid_in_full]         0.3018      0.124      2.431      0.015       0.059       0.545\n",
       "PAY_2[T.payment_delay]        0.5657      0.129      4.374      0.000       0.312       0.819\n",
       "PAY_2[T.revolving_credit]     1.0763      0.145      7.426      0.000       0.792       1.360\n",
       "EDUCATION[T.HS]               0.0713      0.056      1.267      0.205      -0.039       0.182\n",
       "EDUCATION[T.Uni]              0.0532      0.043      1.251      0.211      -0.030       0.136\n",
       "EDUCATION[T.others]          -1.2639      0.275     -4.592      0.000      -1.803      -0.724\n",
       "MARRIAGE[T.1]                 2.9842      1.048      2.846      0.004       0.929       5.039\n",
       "MARRIAGE[T.2]                 2.8301      1.049      2.699      0.007       0.775       4.885\n",
       "MARRIAGE[T.3]                 3.0159      1.061      2.843      0.004       0.937       5.095\n",
       "PAY_6[T.paid_in_full]        -0.1358      0.093     -1.463      0.144      -0.318       0.046\n",
       "PAY_6[T.payment_delay]        0.1050      0.116      0.906      0.365      -0.122       0.332\n",
       "PAY_6[T.revolving_credit]    -0.2643      0.101     -2.614      0.009      -0.463      -0.066\n",
       "SEX[T.2]                     -0.1316      0.037     -3.536      0.000      -0.205      -0.059\n",
       "PAY_4[T.paid_in_full]         0.0054      0.127      0.042      0.966      -0.243       0.253\n",
       "PAY_4[T.payment_delay]        0.2717      0.153      1.771      0.076      -0.029       0.572\n",
       "PAY_4[T.revolving_credit]     0.0611      0.143      0.428      0.668      -0.218       0.341\n",
       "PAY_AMT1                  -1.786e-05   3.06e-06     -5.833      0.000   -2.39e-05   -1.19e-05\n",
       "PAY_AMT2                  -8.779e-06   2.33e-06     -3.766      0.000   -1.33e-05   -4.21e-06\n",
       "PAY_AMT6                  -4.015e-06   1.57e-06     -2.557      0.011   -7.09e-06   -9.37e-07\n",
       "PAY_AMT4                   -4.15e-06   1.98e-06     -2.094      0.036   -8.03e-06   -2.66e-07\n",
       "BILL_AMT3                  1.375e-06   1.22e-06      1.130      0.259   -1.01e-06    3.76e-06\n",
       "BILL_AMT1                 -3.231e-06   1.34e-06     -2.415      0.016   -5.85e-06   -6.08e-07\n",
       "BILL_AMT2                    2.9e-06   1.73e-06      1.678      0.093   -4.88e-07    6.29e-06\n",
       "PAY_AMT3                  -3.031e-06   1.97e-06     -1.542      0.123   -6.89e-06    8.23e-07\n",
       "=============================================================================================\n",
       "\"\"\""
      ]
     },
     "execution_count": 85,
     "metadata": {},
     "output_type": "execute_result"
    }
   ],
   "source": [
    "forward=forward_selected(data=train_set,null_formula='default~1',full_formula=my_formula,response='default',intercept=1)\n",
    "forward.summary()"
   ]
  },
  {
   "cell_type": "markdown",
   "metadata": {},
   "source": [
    "Intuitively, those payment variables came in a sequential order of time, e.g. from April, May ... and up to September. So, **it dose not make sense to exclude some intermediate information.** It is appropriate to keep them in sequential fashionFor instance, let’s keep all the payment related variables (i.e. only exclude AGE)"
   ]
  },
  {
   "cell_type": "markdown",
   "metadata": {},
   "source": [
    "**Model without AGE**"
   ]
  },
  {
   "cell_type": "code",
   "execution_count": 87,
   "metadata": {
    "scrolled": true
   },
   "outputs": [
    {
     "name": "stdout",
     "output_type": "stream",
     "text": [
      "                 Generalized Linear Model Regression Results                  \n",
      "==============================================================================\n",
      "Dep. Variable:                default   No. Observations:                21000\n",
      "Model:                            GLM   Df Residuals:                    20961\n",
      "Model Family:                Binomial   Df Model:                           38\n",
      "Link Function:                  logit   Scale:                          1.0000\n",
      "Method:                          IRLS   Log-Likelihood:                -9449.5\n",
      "Date:                Mon, 13 May 2019   Deviance:                       18899.\n",
      "Time:                        10:12:04   Pearson chi2:                 2.34e+04\n",
      "No. Iterations:                     6   Covariance Type:             nonrobust\n",
      "=============================================================================================\n",
      "                                coef    std err          z      P>|z|      [0.025      0.975]\n",
      "---------------------------------------------------------------------------------------------\n",
      "Intercept                    -4.1192      1.051     -3.918      0.000      -6.180      -2.058\n",
      "SEX[T.2]                     -0.1273      0.037     -3.412      0.001      -0.200      -0.054\n",
      "EDUCATION[T.HS]              -0.0331      0.058     -0.573      0.566      -0.146       0.080\n",
      "EDUCATION[T.Uni]             -0.0177      0.043     -0.408      0.683      -0.103       0.067\n",
      "EDUCATION[T.others]          -1.3549      0.276     -4.901      0.000      -1.897      -0.813\n",
      "MARRIAGE[T.1]                 3.0035      1.047      2.868      0.004       0.951       5.056\n",
      "MARRIAGE[T.2]                 2.8055      1.047      2.679      0.007       0.753       4.858\n",
      "MARRIAGE[T.3]                 2.9679      1.060      2.801      0.005       0.891       5.045\n",
      "PAY_1[T.paid_in_full]         0.1305      0.121      1.075      0.282      -0.107       0.368\n",
      "PAY_1[T.payment_delay]        0.9539      0.101      9.478      0.000       0.757       1.151\n",
      "PAY_1[T.revolving_credit]    -1.0898      0.124     -8.773      0.000      -1.333      -0.846\n",
      "PAY_2[T.paid_in_full]         0.2423      0.125      1.941      0.052      -0.002       0.487\n",
      "PAY_2[T.payment_delay]        0.4425      0.130      3.394      0.001       0.187       0.698\n",
      "PAY_2[T.revolving_credit]     0.9654      0.146      6.624      0.000       0.680       1.251\n",
      "PAY_3[T.paid_in_full]        -0.1165      0.125     -0.934      0.350      -0.361       0.128\n",
      "PAY_3[T.payment_delay]        0.3208      0.147      2.184      0.029       0.033       0.609\n",
      "PAY_3[T.revolving_credit]    -0.1104      0.145     -0.762      0.446      -0.394       0.174\n",
      "PAY_4[T.paid_in_full]         0.0026      0.128      0.020      0.984      -0.247       0.253\n",
      "PAY_4[T.payment_delay]        0.2433      0.154      1.578      0.115      -0.059       0.546\n",
      "PAY_4[T.revolving_credit]     0.0377      0.143      0.263      0.793      -0.243       0.319\n",
      "PAY_5[T.paid_in_full]        -0.0751      0.124     -0.606      0.545      -0.318       0.168\n",
      "PAY_5[T.payment_delay]        0.3880      0.154      2.527      0.011       0.087       0.689\n",
      "PAY_5[T.revolving_credit]     0.0477      0.138      0.346      0.730      -0.223       0.318\n",
      "PAY_6[T.paid_in_full]        -0.1178      0.094     -1.251      0.211      -0.302       0.067\n",
      "PAY_6[T.payment_delay]        0.0540      0.118      0.459      0.646      -0.176       0.284\n",
      "PAY_6[T.revolving_credit]    -0.2964      0.102     -2.892      0.004      -0.497      -0.096\n",
      "LIMIT_BA                  -1.749e-06   2.04e-07     -8.577      0.000   -2.15e-06   -1.35e-06\n",
      "BILL_AMT1                 -2.068e-06   1.34e-06     -1.543      0.123    -4.7e-06    5.59e-07\n",
      "BILL_AMT2                  2.618e-06   1.73e-06      1.516      0.130   -7.68e-07       6e-06\n",
      "BILL_AMT3                  1.559e-06   1.56e-06      0.997      0.319   -1.51e-06    4.63e-06\n",
      "BILL_AMT4                 -1.629e-08    1.7e-06     -0.010      0.992   -3.35e-06    3.32e-06\n",
      "BILL_AMT5                  5.544e-07   1.87e-06      0.297      0.767   -3.11e-06    4.22e-06\n",
      "BILL_AMT6                 -2.293e-07   1.41e-06     -0.162      0.871      -3e-06    2.54e-06\n",
      "PAY_AMT1                  -1.582e-05   3.01e-06     -5.255      0.000   -2.17e-05   -9.92e-06\n",
      "PAY_AMT2                   -7.42e-06   2.32e-06     -3.205      0.001    -1.2e-05   -2.88e-06\n",
      "PAY_AMT3                  -1.687e-06   2.14e-06     -0.787      0.431   -5.89e-06    2.51e-06\n",
      "PAY_AMT4                   -3.04e-06   2.23e-06     -1.364      0.173   -7.41e-06    1.33e-06\n",
      "PAY_AMT5                  -7.562e-07   1.96e-06     -0.386      0.699   -4.59e-06    3.08e-06\n",
      "PAY_AMT6                  -2.884e-06   1.58e-06     -1.823      0.068   -5.99e-06    2.17e-07\n",
      "=============================================================================================\n"
     ]
    }
   ],
   "source": [
    "all_columns = \"+\".join(dat.columns[0:23])\n",
    "my_formula=\"default~\"+all_columns+\"-AGE\"\n",
    "\n",
    "new_model = smf.glm(formula = my_formula, data=train_set, family=sm.families.Binomial()).fit()\n",
    "\n",
    "print(new_model.summary())"
   ]
  },
  {
   "cell_type": "markdown",
   "metadata": {},
   "source": [
    "**Variance Inflation Factor (VIF)**"
   ]
  },
  {
   "cell_type": "code",
   "execution_count": null,
   "metadata": {},
   "outputs": [],
   "source": [
    "from statsmodels.stats.outliers_influence import variance_inflation_factor\n"
   ]
  },
  {
   "cell_type": "markdown",
   "metadata": {},
   "source": [
    "**Consider interaction term**\n",
    "\n",
    "We may further consider the interaction between the categorical variables. From Interaction plots, it seems that there are minor interaction effect for EDUCATION:MARRIAGEand EDUCATION:SEXWe may further verify the significance of them by using LR test. Interaction terms are not significant. So, we keep using the model without AGE for classification"
   ]
  },
  {
   "cell_type": "markdown",
   "metadata": {},
   "source": [
    "## Classification"
   ]
  },
  {
   "cell_type": "markdown",
   "metadata": {},
   "source": [
    "predict default if probability>0.5"
   ]
  },
  {
   "cell_type": "code",
   "execution_count": 89,
   "metadata": {},
   "outputs": [],
   "source": [
    "prob=new_model.predict(test_set)\n",
    "predictions = [ 0 if p < 0.5 else 1 for p in prob]"
   ]
  },
  {
   "cell_type": "markdown",
   "metadata": {},
   "source": [
    "**confusion matrics**"
   ]
  },
  {
   "cell_type": "code",
   "execution_count": 92,
   "metadata": {},
   "outputs": [
    {
     "name": "stdout",
     "output_type": "stream",
     "text": [
      "[[6849  311]\n",
      " [1219  621]]\n"
     ]
    }
   ],
   "source": [
    "# confusion matrics\n",
    "from sklearn.metrics import confusion_matrix\n",
    "print(confusion_matrix(test_set[\"default\"], predictions))"
   ]
  },
  {
   "cell_type": "code",
   "execution_count": 95,
   "metadata": {},
   "outputs": [
    {
     "name": "stdout",
     "output_type": "stream",
     "text": [
      "Sensitivity: 0.3375 \n",
      "Specificity: 0.9565642458100558 \n",
      "Miss Classification Rate: 0.17\n"
     ]
    }
   ],
   "source": [
    "# Error Measure\n",
    "tn, fp, fn, tp = confusion_matrix(test_set[\"default\"], predictions).ravel()\n",
    "#print(tn,fp,fn,tp)\n",
    "sensitivity = tp/(tp+fn)\n",
    "specificity = tn/(fp+tn)\n",
    "misClassError = (fp+fn)/(fp+fn+tn+tp)\n",
    "print ('Sensitivity:',sensitivity,'\\nSpecificity:',specificity,'\\nMiss Classification Rate:',misClassError)\n"
   ]
  },
  {
   "cell_type": "markdown",
   "metadata": {},
   "source": [
    "**ROC Curve**"
   ]
  },
  {
   "cell_type": "code",
   "execution_count": 102,
   "metadata": {
    "scrolled": true
   },
   "outputs": [
    {
     "data": {
      "image/png": "[encoded data removed]",
      "text/plain": [
       "<Figure size 432x288 with 1 Axes>"
      ]
     },
     "metadata": {
      "needs_background": "light"
     },
     "output_type": "display_data"
    }
   ],
   "source": [
    "from sklearn import metrics\n",
    "\n",
    "y_pred_proba = prob\n",
    "y_test=test_set['default']\n",
    "fpr, tpr, _ = metrics.roc_curve(y_test,  y_pred_proba)\n",
    "auc = metrics.roc_auc_score(y_test, y_pred_proba)\n",
    "plt.plot(fpr,tpr,label=\"auc=\"+str(auc))\n",
    "plt.xlabel('FPR')\n",
    "plt.ylabel('TPR')\n",
    "plt.legend(loc=4)\n",
    "plt.show()"
   ]
  },
  {
   "cell_type": "markdown",
   "metadata": {},
   "source": [
    "This is a common feature (unbalance dataset) of the credit data, such that there is a dominate group of response. It impacts on the classification cutoff."
   ]
  },
  {
   "cell_type": "markdown",
   "metadata": {},
   "source": [
    "**Optimal cutoff**\n",
    "\n",
    "The choice of optimal cutoff is sometimes subjective. Some may seek for an optimal cutoff by *minimizing the misclassification rate*. One may only *maximize the True Positive Rate*.There is always a tradeoff between false negative and false positive"
   ]
  },
  {
   "cell_type": "markdown",
   "metadata": {},
   "source": [
    "**In our case**\n",
    "\n",
    "the risk is lending loan to a client who will go default laterSo we want to have a better control on the **FALSE NEGATIVE** case"
   ]
  },
  {
   "cell_type": "markdown",
   "metadata": {},
   "source": [
    "Then we may set the **cost** for false negative and false positive and use this cost to find the optimal cutoff."
   ]
  },
  {
   "cell_type": "markdown",
   "metadata": {},
   "source": [
    "## The odds ratio"
   ]
  },
  {
   "cell_type": "code",
   "execution_count": 109,
   "metadata": {},
   "outputs": [
    {
     "data": {
      "text/plain": [
       "Intercept                     0.016257\n",
       "SEX[T.2]                      0.880434\n",
       "EDUCATION[T.HS]               0.967472\n",
       "EDUCATION[T.Uni]              0.982462\n",
       "EDUCATION[T.others]           0.257983\n",
       "MARRIAGE[T.1]                20.156311\n",
       "MARRIAGE[T.2]                16.536143\n",
       "MARRIAGE[T.3]                19.451568\n",
       "PAY_1[T.paid_in_full]         1.139454\n",
       "PAY_1[T.payment_delay]        2.595920\n",
       "PAY_1[T.revolving_credit]     0.336272\n",
       "PAY_2[T.paid_in_full]         1.274159\n",
       "PAY_2[T.payment_delay]        1.556569\n",
       "PAY_2[T.revolving_credit]     2.625878\n",
       "PAY_3[T.paid_in_full]         0.890048\n",
       "PAY_3[T.payment_delay]        1.378291\n",
       "PAY_3[T.revolving_credit]     0.895489\n",
       "PAY_4[T.paid_in_full]         1.002608\n",
       "PAY_4[T.payment_delay]        1.275429\n",
       "PAY_4[T.revolving_credit]     1.038403\n",
       "PAY_5[T.paid_in_full]         0.927605\n",
       "PAY_5[T.payment_delay]        1.474066\n",
       "PAY_5[T.revolving_credit]     1.048836\n",
       "PAY_6[T.paid_in_full]         0.888879\n",
       "PAY_6[T.payment_delay]        1.055488\n",
       "PAY_6[T.revolving_credit]     0.743480\n",
       "LIMIT_BA                      0.999998\n",
       "BILL_AMT1                     0.999998\n",
       "BILL_AMT2                     1.000003\n",
       "BILL_AMT3                     1.000002\n",
       "BILL_AMT4                     1.000000\n",
       "BILL_AMT5                     1.000001\n",
       "BILL_AMT6                     1.000000\n",
       "PAY_AMT1                      0.999984\n",
       "PAY_AMT2                      0.999993\n",
       "PAY_AMT3                      0.999998\n",
       "PAY_AMT4                      0.999997\n",
       "PAY_AMT5                      0.999999\n",
       "PAY_AMT6                      0.999997\n",
       "dtype: float64"
      ]
     },
     "execution_count": 109,
     "metadata": {},
     "output_type": "execute_result"
    }
   ],
   "source": [
    "# odds ratio\n",
    "np.exp(new_model.params)"
   ]
  },
  {
   "cell_type": "code",
   "execution_count": 104,
   "metadata": {
    "scrolled": true
   },
   "outputs": [
    {
     "data": {
      "text/html": [
       "<div>\n",
       "<style scoped>\n",
       "    .dataframe tbody tr th:only-of-type {\n",
       "        vertical-align: middle;\n",
       "    }\n",
       "\n",
       "    .dataframe tbody tr th {\n",
       "        vertical-align: top;\n",
       "    }\n",
       "\n",
       "    .dataframe thead th {\n",
       "        text-align: right;\n",
       "    }\n",
       "</style>\n",
       "<table border=\"1\" class=\"dataframe\">\n",
       "  <thead>\n",
       "    <tr style=\"text-align: right;\">\n",
       "      <th></th>\n",
       "      <th>0</th>\n",
       "      <th>1</th>\n",
       "    </tr>\n",
       "  </thead>\n",
       "  <tbody>\n",
       "    <tr>\n",
       "      <th>Intercept</th>\n",
       "      <td>0.002070</td>\n",
       "      <td>0.127654</td>\n",
       "    </tr>\n",
       "    <tr>\n",
       "      <th>SEX[T.2]</th>\n",
       "      <td>0.818327</td>\n",
       "      <td>0.947256</td>\n",
       "    </tr>\n",
       "    <tr>\n",
       "      <th>EDUCATION[T.HS]</th>\n",
       "      <td>0.864073</td>\n",
       "      <td>1.083243</td>\n",
       "    </tr>\n",
       "    <tr>\n",
       "      <th>EDUCATION[T.Uni]</th>\n",
       "      <td>0.902372</td>\n",
       "      <td>1.069661</td>\n",
       "    </tr>\n",
       "    <tr>\n",
       "      <th>EDUCATION[T.others]</th>\n",
       "      <td>0.150063</td>\n",
       "      <td>0.443516</td>\n",
       "    </tr>\n",
       "    <tr>\n",
       "      <th>MARRIAGE[T.1]</th>\n",
       "      <td>2.588077</td>\n",
       "      <td>156.980214</td>\n",
       "    </tr>\n",
       "    <tr>\n",
       "      <th>MARRIAGE[T.2]</th>\n",
       "      <td>2.122728</td>\n",
       "      <td>128.817294</td>\n",
       "    </tr>\n",
       "    <tr>\n",
       "      <th>MARRIAGE[T.3]</th>\n",
       "      <td>2.438159</td>\n",
       "      <td>155.184082</td>\n",
       "    </tr>\n",
       "    <tr>\n",
       "      <th>PAY_1[T.paid_in_full]</th>\n",
       "      <td>0.898193</td>\n",
       "      <td>1.445519</td>\n",
       "    </tr>\n",
       "    <tr>\n",
       "      <th>PAY_1[T.payment_delay]</th>\n",
       "      <td>2.131162</td>\n",
       "      <td>3.162032</td>\n",
       "    </tr>\n",
       "    <tr>\n",
       "      <th>PAY_1[T.revolving_credit]</th>\n",
       "      <td>0.263605</td>\n",
       "      <td>0.428970</td>\n",
       "    </tr>\n",
       "    <tr>\n",
       "      <th>PAY_2[T.paid_in_full]</th>\n",
       "      <td>0.997697</td>\n",
       "      <td>1.627229</td>\n",
       "    </tr>\n",
       "    <tr>\n",
       "      <th>PAY_2[T.payment_delay]</th>\n",
       "      <td>1.205602</td>\n",
       "      <td>2.009708</td>\n",
       "    </tr>\n",
       "    <tr>\n",
       "      <th>PAY_2[T.revolving_credit]</th>\n",
       "      <td>1.973390</td>\n",
       "      <td>3.494107</td>\n",
       "    </tr>\n",
       "    <tr>\n",
       "      <th>PAY_3[T.paid_in_full]</th>\n",
       "      <td>0.697107</td>\n",
       "      <td>1.136390</td>\n",
       "    </tr>\n",
       "    <tr>\n",
       "      <th>PAY_3[T.payment_delay]</th>\n",
       "      <td>1.033395</td>\n",
       "      <td>1.838297</td>\n",
       "    </tr>\n",
       "    <tr>\n",
       "      <th>PAY_3[T.revolving_credit]</th>\n",
       "      <td>0.674059</td>\n",
       "      <td>1.189659</td>\n",
       "    </tr>\n",
       "    <tr>\n",
       "      <th>PAY_4[T.paid_in_full]</th>\n",
       "      <td>0.780870</td>\n",
       "      <td>1.287312</td>\n",
       "    </tr>\n",
       "    <tr>\n",
       "      <th>PAY_4[T.payment_delay]</th>\n",
       "      <td>0.942764</td>\n",
       "      <td>1.725479</td>\n",
       "    </tr>\n",
       "    <tr>\n",
       "      <th>PAY_4[T.revolving_credit]</th>\n",
       "      <td>0.783899</td>\n",
       "      <td>1.375535</td>\n",
       "    </tr>\n",
       "    <tr>\n",
       "      <th>PAY_5[T.paid_in_full]</th>\n",
       "      <td>0.727319</td>\n",
       "      <td>1.183046</td>\n",
       "    </tr>\n",
       "    <tr>\n",
       "      <th>PAY_5[T.payment_delay]</th>\n",
       "      <td>1.091010</td>\n",
       "      <td>1.991615</td>\n",
       "    </tr>\n",
       "    <tr>\n",
       "      <th>PAY_5[T.revolving_credit]</th>\n",
       "      <td>0.800396</td>\n",
       "      <td>1.374390</td>\n",
       "    </tr>\n",
       "    <tr>\n",
       "      <th>PAY_6[T.paid_in_full]</th>\n",
       "      <td>0.739060</td>\n",
       "      <td>1.069067</td>\n",
       "    </tr>\n",
       "    <tr>\n",
       "      <th>PAY_6[T.payment_delay]</th>\n",
       "      <td>0.838242</td>\n",
       "      <td>1.329039</td>\n",
       "    </tr>\n",
       "    <tr>\n",
       "      <th>PAY_6[T.revolving_credit]</th>\n",
       "      <td>0.608176</td>\n",
       "      <td>0.908886</td>\n",
       "    </tr>\n",
       "    <tr>\n",
       "      <th>LIMIT_BA</th>\n",
       "      <td>0.999998</td>\n",
       "      <td>0.999999</td>\n",
       "    </tr>\n",
       "    <tr>\n",
       "      <th>BILL_AMT1</th>\n",
       "      <td>0.999995</td>\n",
       "      <td>1.000001</td>\n",
       "    </tr>\n",
       "    <tr>\n",
       "      <th>BILL_AMT2</th>\n",
       "      <td>0.999999</td>\n",
       "      <td>1.000006</td>\n",
       "    </tr>\n",
       "    <tr>\n",
       "      <th>BILL_AMT3</th>\n",
       "      <td>0.999998</td>\n",
       "      <td>1.000005</td>\n",
       "    </tr>\n",
       "    <tr>\n",
       "      <th>BILL_AMT4</th>\n",
       "      <td>0.999997</td>\n",
       "      <td>1.000003</td>\n",
       "    </tr>\n",
       "    <tr>\n",
       "      <th>BILL_AMT5</th>\n",
       "      <td>0.999997</td>\n",
       "      <td>1.000004</td>\n",
       "    </tr>\n",
       "    <tr>\n",
       "      <th>BILL_AMT6</th>\n",
       "      <td>0.999997</td>\n",
       "      <td>1.000003</td>\n",
       "    </tr>\n",
       "    <tr>\n",
       "      <th>PAY_AMT1</th>\n",
       "      <td>0.999978</td>\n",
       "      <td>0.999990</td>\n",
       "    </tr>\n",
       "    <tr>\n",
       "      <th>PAY_AMT2</th>\n",
       "      <td>0.999988</td>\n",
       "      <td>0.999997</td>\n",
       "    </tr>\n",
       "    <tr>\n",
       "      <th>PAY_AMT3</th>\n",
       "      <td>0.999994</td>\n",
       "      <td>1.000003</td>\n",
       "    </tr>\n",
       "    <tr>\n",
       "      <th>PAY_AMT4</th>\n",
       "      <td>0.999993</td>\n",
       "      <td>1.000001</td>\n",
       "    </tr>\n",
       "    <tr>\n",
       "      <th>PAY_AMT5</th>\n",
       "      <td>0.999995</td>\n",
       "      <td>1.000003</td>\n",
       "    </tr>\n",
       "    <tr>\n",
       "      <th>PAY_AMT6</th>\n",
       "      <td>0.999994</td>\n",
       "      <td>1.000000</td>\n",
       "    </tr>\n",
       "  </tbody>\n",
       "</table>\n",
       "</div>"
      ],
      "text/plain": [
       "                                  0           1\n",
       "Intercept                  0.002070    0.127654\n",
       "SEX[T.2]                   0.818327    0.947256\n",
       "EDUCATION[T.HS]            0.864073    1.083243\n",
       "EDUCATION[T.Uni]           0.902372    1.069661\n",
       "EDUCATION[T.others]        0.150063    0.443516\n",
       "MARRIAGE[T.1]              2.588077  156.980214\n",
       "MARRIAGE[T.2]              2.122728  128.817294\n",
       "MARRIAGE[T.3]              2.438159  155.184082\n",
       "PAY_1[T.paid_in_full]      0.898193    1.445519\n",
       "PAY_1[T.payment_delay]     2.131162    3.162032\n",
       "PAY_1[T.revolving_credit]  0.263605    0.428970\n",
       "PAY_2[T.paid_in_full]      0.997697    1.627229\n",
       "PAY_2[T.payment_delay]     1.205602    2.009708\n",
       "PAY_2[T.revolving_credit]  1.973390    3.494107\n",
       "PAY_3[T.paid_in_full]      0.697107    1.136390\n",
       "PAY_3[T.payment_delay]     1.033395    1.838297\n",
       "PAY_3[T.revolving_credit]  0.674059    1.189659\n",
       "PAY_4[T.paid_in_full]      0.780870    1.287312\n",
       "PAY_4[T.payment_delay]     0.942764    1.725479\n",
       "PAY_4[T.revolving_credit]  0.783899    1.375535\n",
       "PAY_5[T.paid_in_full]      0.727319    1.183046\n",
       "PAY_5[T.payment_delay]     1.091010    1.991615\n",
       "PAY_5[T.revolving_credit]  0.800396    1.374390\n",
       "PAY_6[T.paid_in_full]      0.739060    1.069067\n",
       "PAY_6[T.payment_delay]     0.838242    1.329039\n",
       "PAY_6[T.revolving_credit]  0.608176    0.908886\n",
       "LIMIT_BA                   0.999998    0.999999\n",
       "BILL_AMT1                  0.999995    1.000001\n",
       "BILL_AMT2                  0.999999    1.000006\n",
       "BILL_AMT3                  0.999998    1.000005\n",
       "BILL_AMT4                  0.999997    1.000003\n",
       "BILL_AMT5                  0.999997    1.000004\n",
       "BILL_AMT6                  0.999997    1.000003\n",
       "PAY_AMT1                   0.999978    0.999990\n",
       "PAY_AMT2                   0.999988    0.999997\n",
       "PAY_AMT3                   0.999994    1.000003\n",
       "PAY_AMT4                   0.999993    1.000001\n",
       "PAY_AMT5                   0.999995    1.000003\n",
       "PAY_AMT6                   0.999994    1.000000"
      ]
     },
     "execution_count": 104,
     "metadata": {},
     "output_type": "execute_result"
    }
   ],
   "source": [
    "# Confidence Interval for the odds ratio\n",
    "np.exp(new_model.conf_int(alpha=0.05))"
   ]
  },
  {
   "cell_type": "markdown",
   "metadata": {},
   "source": [
    "## Business Implications"
   ]
  },
  {
   "cell_type": "markdown",
   "metadata": {},
   "source": [
    "As a loan officer, to **identify group of potential risk clients** is far more important than just classification\n",
    "\n",
    "The **odds ratio** is an alert tool to risk clients. An odds ratio > 1 means the client has a relatively high default risk. Together with its CI, we may identify those risky clients in default "
   ]
  },
  {
   "cell_type": "code",
   "execution_count": null,
   "metadata": {},
   "outputs": [],
   "source": []
  }
 ],
 "metadata": {
  "kernelspec": {
   "display_name": "Python 3",
   "language": "python",
   "name": "python3"
  },
  "language_info": {
   "codemirror_mode": {
    "name": "ipython",
    "version": 3
   },
   "file_extension": ".py",
   "mimetype": "text/x-python",
   "name": "python",
   "nbconvert_exporter": "python",
   "pygments_lexer": "ipython3",
   "version": "3.7.3"
  }
 },
 "nbformat": 4,
 "nbformat_minor": 2
}
